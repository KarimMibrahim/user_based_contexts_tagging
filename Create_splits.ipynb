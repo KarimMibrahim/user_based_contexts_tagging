{
 "cells": [
  {
   "cell_type": "code",
   "execution_count": 1,
   "metadata": {},
   "outputs": [],
   "source": [
    "# General imports\n",
    "import numpy as np\n",
    "import os\n",
    "import pandas as pd\n",
    "import matplotlib.pyplot as plt\n",
    "from sklearn.metrics import accuracy_score, precision_score, recall_score, roc_auc_score, f1_score, cohen_kappa_score\n",
    "from sklearn.model_selection import train_test_split\n",
    "from sklearn.utils import check_random_state\n",
    "from sklearn.preprocessing import MultiLabelBinarizer\n",
    "\n",
    "pd.option_context('display.float_format', '{:0.2f}'.format)\n",
    "\n",
    "SOURCE_PATH = \"/srv/workspace/research/user_based_contexts_tagging/\"\n",
    "SPECTROGRAMS_PATH = \"/srv/workspace/research/user_based_contexts_tagging/dataset/\"\n",
    "OUTPUT_PATH = \"/srv/workspace/research/user_based_contexts_tagging/experiments_results/\"\n",
    "\n",
    "LABELS_LIST = ['car', 'chill', 'club', 'dance', 'gym', 'happy',\n",
    "       'night', 'party', 'relax', 'running', 'sad', 'sleep', 'summer', 'work','workout']"
   ]
  },
  {
   "cell_type": "code",
   "execution_count": 14,
   "metadata": {},
   "outputs": [],
   "source": [
    "def mark_groups_for_samples(df, n_samples, extra_criterion):\n",
    "    \"\"\"\n",
    "        Return groups, an array of size n_samples, marking the group to which each sample belongs\n",
    "        The default group is -1 if extra_criterion is None\n",
    "        If a criterion is given (artist or album), then this information is taken into account\n",
    "    \"\"\"\n",
    "    groups = np.array([-1 for _ in range(n_samples)])\n",
    "    if extra_criterion is None:\n",
    "        return groups\n",
    "\n",
    "    if extra_criterion == \"artist\":\n",
    "        crit_col = \"artist_id\"\n",
    "    elif extra_criterion == \"album\":\n",
    "        crit_col = \"releasegroupmbid\"\n",
    "    else:\n",
    "        return groups\n",
    "\n",
    "    gp = df.groupby(crit_col)\n",
    "    i_key = 0\n",
    "    for g_key in gp.groups:\n",
    "        samples_idx_per_group = gp.groups[g_key].tolist()\n",
    "        groups[samples_idx_per_group] = i_key\n",
    "        i_key += 1\n",
    "    return groups\n",
    "\n",
    "\n",
    "def select_fold(index_label, desired_samples_per_label_per_fold, desired_samples_per_fold, random_state):\n",
    "    \"\"\"\n",
    "        For a label, finds the fold where the next sample should be distributed\n",
    "    \"\"\"\n",
    "    # Find the folds with the largest number of desired samples for this label\n",
    "    largest_desired_label_samples = max(desired_samples_per_label_per_fold[:, index_label])\n",
    "    folds_targeted = np.where(desired_samples_per_label_per_fold[:, index_label] == largest_desired_label_samples)[0]\n",
    "\n",
    "    if len(folds_targeted) == 1:\n",
    "        selected_fold = folds_targeted[0]\n",
    "    else:\n",
    "        # Break ties by considering the largest number of desired samples\n",
    "        largest_desired_samples = max(desired_samples_per_fold[folds_targeted])\n",
    "        folds_re_targeted = np.intersect1d(np.where(\n",
    "            desired_samples_per_fold == largest_desired_samples)[0], folds_targeted)\n",
    "\n",
    "        # If there is still a tie break it picking a random index\n",
    "        if len(folds_re_targeted) == 1:\n",
    "            selected_fold = folds_re_targeted[0]\n",
    "        else:\n",
    "            selected_fold = random_state.choice(folds_re_targeted)\n",
    "    return selected_fold\n",
    "\n",
    "\n",
    "def iterative_split(df, out_file, target, n_splits, extra_criterion=None, seed=None):\n",
    "    \"\"\"\n",
    "        Implement iterative split algorithm\n",
    "        df is the input data\n",
    "        out_file is the output file containing the same data as the input plus a column about the fold\n",
    "        n_splits the number of folds\n",
    "        target is the target source for which the files are generated\n",
    "        extra_criterion, an extra condition to be taken into account in the split such as the artist\n",
    "    \"\"\"\n",
    "    print(\"Starting the iterative split\")\n",
    "    random_state = check_random_state(seed)\n",
    "\n",
    "    mlb_target = MultiLabelBinarizer()\n",
    "    M = mlb_target.fit_transform(df[target].str.split('\\t'))\n",
    "\n",
    "    n_samples = len(df)\n",
    "    n_labels = len(mlb_target.classes_)\n",
    "\n",
    "    # If the extra criterion is given create \"groups\", which shows to which group each sample belongs\n",
    "    groups = mark_groups_for_samples(df, n_samples, extra_criterion)\n",
    "\n",
    "    ratios = np.ones((1, n_splits)) / n_splits\n",
    "    # Calculate the desired number of samples for each fold\n",
    "    desired_samples_per_fold = ratios.T * n_samples\n",
    "\n",
    "    # Calculate the desired number of samples of each label for each fold\n",
    "    number_samples_per_label = np.asarray(M.sum(axis=0)).reshape((n_labels, 1))\n",
    "    desired_samples_per_label_per_fold = np.dot(ratios.T, number_samples_per_label.T)  # shape: n_splits, n_samples\n",
    "\n",
    "    seen = set()\n",
    "    out_folds = np.array([-1 for _ in range(n_samples)])\n",
    "\n",
    "    count_seen = 0\n",
    "    print(\"Going through the samples\")\n",
    "    while n_samples > 0:\n",
    "        # Find the index of the label with the fewest remaining examples\n",
    "        valid_idx = np.where(number_samples_per_label > 0)[0]\n",
    "        index_label = valid_idx[number_samples_per_label[valid_idx].argmin()]\n",
    "        label = mlb_target.classes_[index_label]\n",
    "\n",
    "        # Find the samples belonging to the label with the fewest remaining examples\n",
    "        # second select all samples belonging to the selected label and remove the indices\n",
    "        # of the samples which have been already seen\n",
    "        all_label_indices = set(M[:, index_label].nonzero()[0])\n",
    "        indices = all_label_indices - seen\n",
    "        assert (len(indices) > 0)\n",
    "\n",
    "        print(label, index_label, number_samples_per_label[index_label], len(indices))\n",
    "\n",
    "        for i in indices:\n",
    "            if i in seen:\n",
    "                continue\n",
    "\n",
    "            # Find the folds with the largest number of desired samples for this label\n",
    "            selected_fold = select_fold(index_label, desired_samples_per_label_per_fold,\n",
    "                                        desired_samples_per_fold, random_state)\n",
    "\n",
    "            # put in this fold all the samples which belong to the same group\n",
    "            idx_same_group = np.array([i])\n",
    "            if groups[i] != -1:\n",
    "                idx_same_group = np.where(groups == groups[i])[0]\n",
    "\n",
    "            # Update the folds, the seen, the number of samples and desired_samples_per_fold\n",
    "            out_folds[idx_same_group] = selected_fold\n",
    "            seen.update(idx_same_group)\n",
    "            count_seen += idx_same_group.size\n",
    "            n_samples -= idx_same_group.size\n",
    "            desired_samples_per_fold[selected_fold] -= idx_same_group.size\n",
    "\n",
    "            # The sample may have multiple labels so update for all\n",
    "            for idx in idx_same_group:\n",
    "                all_labels = M[idx].nonzero()\n",
    "                desired_samples_per_label_per_fold[selected_fold, all_labels] -= 1\n",
    "                number_samples_per_label[all_labels] -= 1\n",
    "\n",
    "    df['fold'] = out_folds\n",
    "    #df.drop(\"index\", axis=1, inplace=True)\n",
    "    print(count_seen, len(df))\n",
    "    df.to_csv(out_file, sep=',', index=False)\n",
    "    return df\n",
    "\n",
    "\n",
    "def split_dataset(groundtruth,\n",
    "                  test_size=0.25, seed=0, save_csv=True, n_splits=4,\n",
    "                  train_save_path=os.path.join(SOURCE_PATH, \"GroundTruth/\"),\n",
    "                  test_save_path=os.path.join(SOURCE_PATH, \"GroundTruth/\"),\n",
    "                  validation_save_path=os.path.join(SOURCE_PATH, \"GroundTruth/\"),\n",
    "                  folds_save_path=os.path.join(SOURCE_PATH, \"GroundTruth/ground_truth_folds.csv\")):\n",
    "    #groundtruth = pd.read_csv(csv_path)\n",
    "\n",
    "    groundtruth_folds = iterative_split(df=groundtruth, out_file=folds_save_path, target='label',\n",
    "                                        n_splits=n_splits, extra_criterion='user_id', seed=seed)\n",
    "    test = groundtruth_folds[groundtruth_folds.fold == 0]\n",
    "    train_validation_combined = groundtruth_folds[groundtruth_folds.fold.isin(np.arange(1, n_splits))]\n",
    "    train, validation = train_test_split(train_validation_combined, test_size=0.1, random_state=seed)\n",
    "    train.drop([\"fold\"], axis=1, inplace=True)\n",
    "    test.drop([\"fold\"], axis=1, inplace=True)\n",
    "    validation.drop([\"fold\"], axis=1, inplace=True)\n",
    "    # train, test = train_test_split(train, test_size=test_size, random_state=seed)\n",
    "    if save_csv:\n",
    "        pd.DataFrame.to_csv(train, os.path.join(train_save_path, \"train_ground_truth.csv\"), index=False)\n",
    "        pd.DataFrame.to_csv(validation, os.path.join(validation_save_path, \"validation_ground_truth.csv\"), index=False)\n",
    "        pd.DataFrame.to_csv(test, os.path.join(test_save_path, \"test_ground_truth.csv\"), index=False)\n",
    "    # Save data in binarized format as well\n",
    "    mlb_target = MultiLabelBinarizer()\n",
    "    M = mlb_target.fit_transform(test.label.str.split('\\t'))\n",
    "    Mdf = pd.DataFrame(M, columns=LABELS_LIST)\n",
    "    test.reset_index(inplace=True, drop=True)\n",
    "    test_binarized = pd.concat([test, Mdf], axis=1)\n",
    "    test_binarized.drop(['label'], inplace=True, axis=1)\n",
    "    # For validation\n",
    "    mlb_target = MultiLabelBinarizer()\n",
    "    M = mlb_target.fit_transform(validation.label.str.split('\\t'))\n",
    "    Mdf = pd.DataFrame(M, columns=LABELS_LIST)\n",
    "    validation.reset_index(inplace=True, drop=True)\n",
    "    validation_binarized = pd.concat([validation, Mdf], axis=1)\n",
    "    validation_binarized.drop(['label'], inplace=True, axis=1)\n",
    "    # for training\n",
    "    mlb_target = MultiLabelBinarizer()\n",
    "    M = mlb_target.fit_transform(train.label.str.split('\\t'))\n",
    "    Mdf = pd.DataFrame(M, columns=LABELS_LIST)\n",
    "    train.reset_index(inplace=True, drop=True)\n",
    "    train_binarized = pd.concat([train, Mdf], axis=1)\n",
    "    train_binarized.drop(['label'], inplace=True, axis=1)\n",
    "    if save_csv:\n",
    "        pd.DataFrame.to_csv(test_binarized, os.path.join(test_save_path, \"test_ground_truth_binarized.csv\"),\n",
    "                            index=False)\n",
    "        pd.DataFrame.to_csv(validation_binarized,\n",
    "                            os.path.join(validation_save_path, \"validation_ground_truth_binarized.csv\"), index=False)\n",
    "        pd.DataFrame.to_csv(train_binarized, os.path.join(train_save_path, \"train_ground_truth_binarized.csv\"),\n",
    "                            index=False)\n",
    "    return train, validation, test\n",
    "\n",
    "\n"
   ]
  },
  {
   "cell_type": "code",
   "execution_count": 2,
   "metadata": {},
   "outputs": [],
   "source": [
    "global_labels = pd.read_pickle(\"/srv/workspace/research/user_based_contexts_tagging/GroundTruth/ground_truth_hot_vector.pkl\")\n",
    "global_labels.drop([\"train\",\"shower\",\"morning\"],inplace=True,axis=1)\n",
    "global_labels = global_labels[~(global_labels.iloc[:,2:] == 0).all(axis = 1)]\n",
    "global_labels.iloc[:,2:] = global_labels.iloc[:,2:].clip(upper=1, axis=1)"
   ]
  },
  {
   "cell_type": "code",
   "execution_count": 4,
   "metadata": {},
   "outputs": [],
   "source": [
    "mlb = MultiLabelBinarizer()\n",
    "mlb.fit([LABELS_LIST])\n",
    "labels = mlb.inverse_transform(global_labels.values[:,2:])\n",
    "labels_listed = ['\\t'.join(label) for label in labels] \n",
    "groundtruth = global_labels\n",
    "groundtruth['label'] = labels_listed\n",
    "groundtruth.drop(LABELS_LIST,axis = 1,inplace=True)"
   ]
  },
  {
   "cell_type": "code",
   "execution_count": 5,
   "metadata": {},
   "outputs": [],
   "source": [
    "csv_path=os.path.join(SOURCE_PATH, \"GroundTruth/ground_truth_hot_vector.csv\")\n",
    "test_size=0.25 \n",
    "seed=0 \n",
    "save_csv=True \n",
    "n_splits=4\n",
    "train_save_path=os.path.join(SOURCE_PATH, \"GroundTruth/\")\n",
    "test_save_path=os.path.join(SOURCE_PATH, \"GroundTruth/\")\n",
    "validation_save_path=os.path.join(SOURCE_PATH, \"GroundTruth/\")\n",
    "folds_save_path=os.path.join(SOURCE_PATH, \"GroundTruth/ground_truth_folds.csv\")"
   ]
  },
  {
   "cell_type": "code",
   "execution_count": 15,
   "metadata": {},
   "outputs": [
    {
     "name": "stdout",
     "output_type": "stream",
     "text": [
      "Starting the iterative split\n",
      "Going through the samples\n",
      "sleep 11 [111679] 111679\n",
      "club 2 [118273] 118273\n",
      "happy 5 [194439] 194439\n",
      "work 13 [223878] 223878\n",
      "car 0 [234629] 234629\n",
      "night 6 [237239] 237239\n",
      "workout 14 [259587] 259587\n",
      "gym 4 [307613] 307613\n",
      "relax 8 [326514] 326514\n",
      "running 9 [349913] 349913\n",
      "sad 10 [373917] 373917\n",
      "summer 12 [487190] 487190\n",
      "party 7 [802754] 802754\n",
      "dance 3 [1097611] 1097611\n",
      "chill 1 [1298145] 1298145\n",
      "6423381 6423381\n"
     ]
    },
    {
     "name": "stderr",
     "output_type": "stream",
     "text": [
      "/opt/conda/lib/python3.6/site-packages/pandas/core/frame.py:3940: SettingWithCopyWarning: \n",
      "A value is trying to be set on a copy of a slice from a DataFrame\n",
      "\n",
      "See the caveats in the documentation: http://pandas.pydata.org/pandas-docs/stable/indexing.html#indexing-view-versus-copy\n",
      "  errors=errors)\n"
     ]
    }
   ],
   "source": [
    "groundtruth_folds = split_dataset(groundtruth)"
   ]
  },
  {
   "cell_type": "code",
   "execution_count": 19,
   "metadata": {},
   "outputs": [],
   "source": [
    "test_binarized = pd.read_csv(os.path.join(test_save_path, \"test_ground_truth_binarized.csv\"))"
   ]
  },
  {
   "cell_type": "code",
   "execution_count": 21,
   "metadata": {},
   "outputs": [
    {
     "data": {
      "text/plain": [
       "<matplotlib.axes._subplots.AxesSubplot at 0x7f0976453b38>"
      ]
     },
     "execution_count": 21,
     "metadata": {},
     "output_type": "execute_result"
    },
    {
     "data": {
      "image/png": "[encoded data removed]",
      "text/plain": [
       "<Figure size 1152x432 with 1 Axes>"
      ]
     },
     "metadata": {
      "needs_background": "light"
     },
     "output_type": "display_data"
    }
   ],
   "source": [
    "test_binarized.iloc[:,2:].sum(axis=0).sort_values(ascending=False).plot(kind='bar', figsize=(16,6))"
   ]
  },
  {
   "cell_type": "code",
   "execution_count": 22,
   "metadata": {},
   "outputs": [],
   "source": [
    "train_binarized = pd.read_csv(os.path.join(test_save_path, \"train_ground_truth_binarized.csv\"))"
   ]
  },
  {
   "cell_type": "code",
   "execution_count": 23,
   "metadata": {},
   "outputs": [
    {
     "data": {
      "text/plain": [
       "<matplotlib.axes._subplots.AxesSubplot at 0x7f09d2ca6b38>"
      ]
     },
     "execution_count": 23,
     "metadata": {},
     "output_type": "execute_result"
    },
    {
     "data": {
      "image/png": "[encoded data removed]",
      "text/plain": [
       "<Figure size 1152x432 with 1 Axes>"
      ]
     },
     "metadata": {
      "needs_background": "light"
     },
     "output_type": "display_data"
    }
   ],
   "source": [
    "train_binarized.iloc[:,2:].sum(axis=0).sort_values(ascending=False).plot(kind='bar', figsize=(16,6))"
   ]
  },
  {
   "cell_type": "code",
   "execution_count": 32,
   "metadata": {},
   "outputs": [],
   "source": [
    "global_labels = pd.read_csv(os.path.join(test_save_path, \"all_labels_binarized.csv\"))"
   ]
  },
  {
   "cell_type": "code",
   "execution_count": 41,
   "metadata": {},
   "outputs": [],
   "source": [
    "global_labels = pd.concat([global_labels,test_binarized], axis = 0)"
   ]
  },
  {
   "cell_type": "code",
   "execution_count": 42,
   "metadata": {},
   "outputs": [],
   "source": [
    "global_labels.to_csv(os.path.join(test_save_path, \"all_labels_binarized.csv\"), index = False )"
   ]
  },
  {
   "cell_type": "code",
   "execution_count": 44,
   "metadata": {},
   "outputs": [],
   "source": [
    "train_partial = pd.read_csv(os.path.join(test_save_path, \"train_partial.csv\"))"
   ]
  },
  {
   "cell_type": "markdown",
   "metadata": {},
   "source": []
  },
  {
   "cell_type": "markdown",
   "metadata": {},
   "source": [
    "## Clipping dataset"
   ]
  },
  {
   "cell_type": "code",
   "execution_count": 58,
   "metadata": {},
   "outputs": [],
   "source": [
    "global_labels_clipped = global_labels[['song_id', 'user_id', 'car', 'gym', 'happy',\n",
    "       'night', 'relax', 'running', 'sad', 'summer', 'work',\n",
    "       'workout']]"
   ]
  },
  {
   "cell_type": "code",
   "execution_count": 67,
   "metadata": {},
   "outputs": [],
   "source": [
    "global_labels_clipped = global_labels_clipped[global_labels_clipped.iloc[:,2:].sum(axis=1) != 0]"
   ]
  },
  {
   "cell_type": "code",
   "execution_count": 69,
   "metadata": {},
   "outputs": [
    {
     "data": {
      "text/plain": [
       "<matplotlib.axes._subplots.AxesSubplot at 0x7f09f7759b38>"
      ]
     },
     "execution_count": 69,
     "metadata": {},
     "output_type": "execute_result"
    },
    {
     "data": {
      "image/png": "[encoded data removed]",
      "text/plain": [
       "<Figure size 1152x432 with 1 Axes>"
      ]
     },
     "metadata": {
      "needs_background": "light"
     },
     "output_type": "display_data"
    }
   ],
   "source": [
    "global_labels_clipped.iloc[:,2:].sum(axis=0).sort_values(ascending=False).plot(kind='bar', figsize=(16,6))"
   ]
  },
  {
   "cell_type": "code",
   "execution_count": 96,
   "metadata": {},
   "outputs": [],
   "source": [
    "global_labels_clipped.to_csv(os.path.join(test_save_path, \"all_labels_clipped.csv\"), index = False )"
   ]
  },
  {
   "cell_type": "code",
   "execution_count": null,
   "metadata": {},
   "outputs": [],
   "source": []
  },
  {
   "cell_type": "code",
   "execution_count": 72,
   "metadata": {},
   "outputs": [],
   "source": [
    "train_binarized_clipped = train_binarized[['song_id', 'user_id', 'car', 'gym', 'happy',\n",
    "       'night', 'relax', 'running', 'sad', 'summer', 'work',\n",
    "       'workout']]"
   ]
  },
  {
   "cell_type": "code",
   "execution_count": 73,
   "metadata": {},
   "outputs": [],
   "source": [
    "train_binarized_clipped = train_binarized_clipped[train_binarized_clipped.iloc[:,2:].sum(axis=1) != 0]"
   ]
  },
  {
   "cell_type": "code",
   "execution_count": 74,
   "metadata": {},
   "outputs": [],
   "source": [
    "train_binarized_clipped_partial = train_binarized_clipped.iloc[0:100000,:]"
   ]
  },
  {
   "cell_type": "code",
   "execution_count": 97,
   "metadata": {},
   "outputs": [],
   "source": [
    "train_binarized_clipped_partial.to_csv(os.path.join(test_save_path, \"train_partial_clipped.csv\"), index = False )"
   ]
  },
  {
   "cell_type": "code",
   "execution_count": 83,
   "metadata": {},
   "outputs": [],
   "source": [
    "test_binarized_clipped = test_binarized[['song_id', 'user_id', 'car', 'gym', 'happy',\n",
    "       'night', 'relax', 'running', 'sad', 'summer', 'work',\n",
    "       'workout']]"
   ]
  },
  {
   "cell_type": "code",
   "execution_count": 84,
   "metadata": {},
   "outputs": [],
   "source": [
    "test_binarized_clipped = test_binarized_clipped[test_binarized_clipped.iloc[:,2:].sum(axis=1) != 0]"
   ]
  },
  {
   "cell_type": "code",
   "execution_count": 85,
   "metadata": {},
   "outputs": [],
   "source": [
    "test_binarized_clipped_partial = test_binarized_clipped.iloc[0:50000,:]"
   ]
  },
  {
   "cell_type": "code",
   "execution_count": 98,
   "metadata": {},
   "outputs": [],
   "source": [
    "test_binarized_clipped_partial.to_csv(os.path.join(test_save_path, \"test_partial_clipped.csv\"), index = False )"
   ]
  },
  {
   "cell_type": "code",
   "execution_count": 87,
   "metadata": {},
   "outputs": [],
   "source": [
    "validation_binarized_clipped = validation_binarized[['song_id', 'user_id', 'car', 'gym', 'happy',\n",
    "       'night', 'relax', 'running', 'sad', 'summer', 'work',\n",
    "       'workout']]"
   ]
  },
  {
   "cell_type": "code",
   "execution_count": 88,
   "metadata": {},
   "outputs": [],
   "source": [
    "validation_binarized_clipped = validation_binarized_clipped[validation_binarized_clipped.iloc[:,2:].sum(axis=1) != 0]"
   ]
  },
  {
   "cell_type": "code",
   "execution_count": 89,
   "metadata": {},
   "outputs": [],
   "source": [
    "validation_binarized_clipped_partial = validation_binarized_clipped.iloc[0:30000,:]"
   ]
  },
  {
   "cell_type": "code",
   "execution_count": 99,
   "metadata": {},
   "outputs": [],
   "source": [
    "validation_binarized_clipped_partial.to_csv(os.path.join(test_save_path, \"validation_partial_clipped.csv\"), index = False )"
   ]
  },
  {
   "cell_type": "code",
   "execution_count": 95,
   "metadata": {},
   "outputs": [
    {
     "data": {
      "text/plain": [
       "12"
      ]
     },
     "execution_count": 95,
     "metadata": {},
     "output_type": "execute_result"
    }
   ],
   "source": [
    "len(train_binarized_clipped_partial.columns)"
   ]
  },
  {
   "cell_type": "code",
   "execution_count": 102,
   "metadata": {},
   "outputs": [
    {
     "data": {
      "text/plain": [
       "44598"
      ]
     },
     "execution_count": 102,
     "metadata": {},
     "output_type": "execute_result"
    }
   ],
   "source": [
    "train_partial.song_id.nunique()"
   ]
  },
  {
   "cell_type": "code",
   "execution_count": null,
   "metadata": {},
   "outputs": [],
   "source": [
    "train_partial.user_id.nunique()"
   ]
  },
  {
   "cell_type": "markdown",
   "metadata": {},
   "source": [
    "## Create splits with less users"
   ]
  },
  {
   "cell_type": "code",
   "execution_count": 131,
   "metadata": {},
   "outputs": [],
   "source": [
    "# train\n",
    "unique_users = train_binarized_clipped.groupby(\"user_id\").count().sort_values(\"song_id\",ascending = False).iloc[1:1000,:].index.values"
   ]
  },
  {
   "cell_type": "code",
   "execution_count": 132,
   "metadata": {},
   "outputs": [],
   "source": [
    "active_training_labels = train_binarized_clipped[train_binarized_clipped.user_id.isin(unique_users)]"
   ]
  },
  {
   "cell_type": "code",
   "execution_count": 134,
   "metadata": {},
   "outputs": [],
   "source": [
    "active_training_labels.to_csv(os.path.join(test_save_path, \"train_active_clipped.csv\"), index = False )"
   ]
  },
  {
   "cell_type": "code",
   "execution_count": 141,
   "metadata": {},
   "outputs": [],
   "source": [
    "# test\n",
    "unique_users = test_binarized_clipped.groupby(\"user_id\").count().sort_values(\"song_id\",ascending = False).iloc[1:1400,:].index.values"
   ]
  },
  {
   "cell_type": "code",
   "execution_count": 142,
   "metadata": {},
   "outputs": [],
   "source": [
    "active_test_labels = test_binarized_clipped[test_binarized_clipped.user_id.isin(unique_users)]"
   ]
  },
  {
   "cell_type": "code",
   "execution_count": 144,
   "metadata": {},
   "outputs": [],
   "source": [
    "active_test_labels.to_csv(os.path.join(test_save_path, \"test_active_clipped.csv\"), index = False )"
   ]
  },
  {
   "cell_type": "code",
   "execution_count": 157,
   "metadata": {},
   "outputs": [],
   "source": [
    "# validation\n",
    "unique_users = validation_binarized_clipped.groupby(\"user_id\").count().sort_values(\"song_id\",ascending = False).iloc[1:2300,:].index.values"
   ]
  },
  {
   "cell_type": "code",
   "execution_count": 158,
   "metadata": {},
   "outputs": [],
   "source": [
    "active_validation_labels = validation_binarized_clipped[validation_binarized_clipped.user_id.isin(unique_users)]"
   ]
  },
  {
   "cell_type": "code",
   "execution_count": 160,
   "metadata": {},
   "outputs": [],
   "source": [
    "active_validation_labels.to_csv(os.path.join(test_save_path, \"validation_active_clipped.csv\"), index = False )"
   ]
  },
  {
   "cell_type": "markdown",
   "metadata": {},
   "source": [
    "## Make random embeddings"
   ]
  },
  {
   "cell_type": "code",
   "execution_count": 6,
   "metadata": {},
   "outputs": [],
   "source": [
    "embeddings = pd.read_pickle(\"user_based_contexts_tagging/GroundTruth/user_embeddings.pkl\")"
   ]
  },
  {
   "cell_type": "code",
   "execution_count": 17,
   "metadata": {},
   "outputs": [],
   "source": [
    "random_features = [list(np.random.uniform(-1,1,256)) for counter in range(len(embeddings))]"
   ]
  },
  {
   "cell_type": "code",
   "execution_count": 19,
   "metadata": {},
   "outputs": [],
   "source": [
    "embeddings.features = random_features"
   ]
  },
  {
   "cell_type": "code",
   "execution_count": 21,
   "metadata": {},
   "outputs": [],
   "source": [
    "embeddings.to_pickle(\"user_based_contexts_tagging/GroundTruth/user_embeddings_random.pkl\")"
   ]
  },
  {
   "cell_type": "code",
   "execution_count": 22,
   "metadata": {},
   "outputs": [
    {
     "name": "stdout",
     "output_type": "stream",
     "text": [
      "Create_splits.ipynb                     \u001b[0m\u001b[01;34mdataset\u001b[0m/\r\n",
      "Extract_mels.ipynb                      \u001b[01;34mexperiments_results\u001b[0m/\r\n",
      "\u001b[01;34mGroundTruth\u001b[0m/                            train_choi.ipynb\r\n",
      "\u001b[01;34mGroundtruthWithTrackCount\u001b[0m/              unique_songs_IDs.csv\r\n",
      "User_embeedings_dataset_analysis.ipynb  \u001b[01;34muser_based_contexts_tagging\u001b[0m/\r\n",
      "classic_model.py                        user_embedding_model.py\r\n",
      "core                                    utilities.py\r\n"
     ]
    }
   ],
   "source": [
    "ls"
   ]
  },
  {
   "cell_type": "markdown",
   "metadata": {},
   "source": [
    "## check dataset"
   ]
  },
  {
   "cell_type": "code",
   "execution_count": 2,
   "metadata": {},
   "outputs": [],
   "source": [
    "train = pd.read_csv(\"user_based_contexts_tagging/GroundTruth/train_active_clipped.csv\")"
   ]
  },
  {
   "cell_type": "code",
   "execution_count": 5,
   "metadata": {},
   "outputs": [
    {
     "data": {
      "text/html": [
       "<div>\n",
       "<style scoped>\n",
       "    .dataframe tbody tr th:only-of-type {\n",
       "        vertical-align: middle;\n",
       "    }\n",
       "\n",
       "    .dataframe tbody tr th {\n",
       "        vertical-align: top;\n",
       "    }\n",
       "\n",
       "    .dataframe thead th {\n",
       "        text-align: right;\n",
       "    }\n",
       "</style>\n",
       "<table border=\"1\" class=\"dataframe\">\n",
       "  <thead>\n",
       "    <tr style=\"text-align: right;\">\n",
       "      <th></th>\n",
       "      <th>song_id</th>\n",
       "      <th>user_id</th>\n",
       "      <th>car</th>\n",
       "      <th>gym</th>\n",
       "      <th>happy</th>\n",
       "      <th>night</th>\n",
       "      <th>relax</th>\n",
       "      <th>running</th>\n",
       "      <th>sad</th>\n",
       "      <th>summer</th>\n",
       "      <th>work</th>\n",
       "      <th>workout</th>\n",
       "    </tr>\n",
       "  </thead>\n",
       "  <tbody>\n",
       "    <tr>\n",
       "      <th>count</th>\n",
       "      <td>40060.0</td>\n",
       "      <td>40060.000000</td>\n",
       "      <td>40060.000000</td>\n",
       "      <td>40060.000000</td>\n",
       "      <td>40060.000000</td>\n",
       "      <td>40060.000000</td>\n",
       "      <td>40060.000000</td>\n",
       "      <td>40060.000000</td>\n",
       "      <td>40060.000000</td>\n",
       "      <td>40060.000000</td>\n",
       "      <td>40060.000000</td>\n",
       "      <td>40060.000000</td>\n",
       "    </tr>\n",
       "    <tr>\n",
       "      <th>mean</th>\n",
       "      <td>1.0</td>\n",
       "      <td>2.501173</td>\n",
       "      <td>1.116525</td>\n",
       "      <td>1.134199</td>\n",
       "      <td>1.069795</td>\n",
       "      <td>1.073090</td>\n",
       "      <td>1.057014</td>\n",
       "      <td>1.104568</td>\n",
       "      <td>1.055667</td>\n",
       "      <td>1.153944</td>\n",
       "      <td>1.104768</td>\n",
       "      <td>1.078058</td>\n",
       "    </tr>\n",
       "    <tr>\n",
       "      <th>std</th>\n",
       "      <td>0.0</td>\n",
       "      <td>4.646222</td>\n",
       "      <td>0.320858</td>\n",
       "      <td>0.340870</td>\n",
       "      <td>0.254805</td>\n",
       "      <td>0.260288</td>\n",
       "      <td>0.231873</td>\n",
       "      <td>0.306000</td>\n",
       "      <td>0.229279</td>\n",
       "      <td>0.360900</td>\n",
       "      <td>0.306258</td>\n",
       "      <td>0.268266</td>\n",
       "    </tr>\n",
       "    <tr>\n",
       "      <th>min</th>\n",
       "      <td>1.0</td>\n",
       "      <td>1.000000</td>\n",
       "      <td>1.000000</td>\n",
       "      <td>1.000000</td>\n",
       "      <td>1.000000</td>\n",
       "      <td>1.000000</td>\n",
       "      <td>1.000000</td>\n",
       "      <td>1.000000</td>\n",
       "      <td>1.000000</td>\n",
       "      <td>1.000000</td>\n",
       "      <td>1.000000</td>\n",
       "      <td>1.000000</td>\n",
       "    </tr>\n",
       "    <tr>\n",
       "      <th>25%</th>\n",
       "      <td>1.0</td>\n",
       "      <td>1.000000</td>\n",
       "      <td>1.000000</td>\n",
       "      <td>1.000000</td>\n",
       "      <td>1.000000</td>\n",
       "      <td>1.000000</td>\n",
       "      <td>1.000000</td>\n",
       "      <td>1.000000</td>\n",
       "      <td>1.000000</td>\n",
       "      <td>1.000000</td>\n",
       "      <td>1.000000</td>\n",
       "      <td>1.000000</td>\n",
       "    </tr>\n",
       "    <tr>\n",
       "      <th>50%</th>\n",
       "      <td>1.0</td>\n",
       "      <td>1.000000</td>\n",
       "      <td>1.000000</td>\n",
       "      <td>1.000000</td>\n",
       "      <td>1.000000</td>\n",
       "      <td>1.000000</td>\n",
       "      <td>1.000000</td>\n",
       "      <td>1.000000</td>\n",
       "      <td>1.000000</td>\n",
       "      <td>1.000000</td>\n",
       "      <td>1.000000</td>\n",
       "      <td>1.000000</td>\n",
       "    </tr>\n",
       "    <tr>\n",
       "      <th>75%</th>\n",
       "      <td>1.0</td>\n",
       "      <td>2.000000</td>\n",
       "      <td>1.000000</td>\n",
       "      <td>1.000000</td>\n",
       "      <td>1.000000</td>\n",
       "      <td>1.000000</td>\n",
       "      <td>1.000000</td>\n",
       "      <td>1.000000</td>\n",
       "      <td>1.000000</td>\n",
       "      <td>1.000000</td>\n",
       "      <td>1.000000</td>\n",
       "      <td>1.000000</td>\n",
       "    </tr>\n",
       "    <tr>\n",
       "      <th>max</th>\n",
       "      <td>1.0</td>\n",
       "      <td>139.000000</td>\n",
       "      <td>2.000000</td>\n",
       "      <td>2.000000</td>\n",
       "      <td>2.000000</td>\n",
       "      <td>2.000000</td>\n",
       "      <td>2.000000</td>\n",
       "      <td>2.000000</td>\n",
       "      <td>2.000000</td>\n",
       "      <td>2.000000</td>\n",
       "      <td>2.000000</td>\n",
       "      <td>2.000000</td>\n",
       "    </tr>\n",
       "  </tbody>\n",
       "</table>\n",
       "</div>"
      ],
      "text/plain": [
       "       song_id       user_id           car           gym         happy  \\\n",
       "count  40060.0  40060.000000  40060.000000  40060.000000  40060.000000   \n",
       "mean       1.0      2.501173      1.116525      1.134199      1.069795   \n",
       "std        0.0      4.646222      0.320858      0.340870      0.254805   \n",
       "min        1.0      1.000000      1.000000      1.000000      1.000000   \n",
       "25%        1.0      1.000000      1.000000      1.000000      1.000000   \n",
       "50%        1.0      1.000000      1.000000      1.000000      1.000000   \n",
       "75%        1.0      2.000000      1.000000      1.000000      1.000000   \n",
       "max        1.0    139.000000      2.000000      2.000000      2.000000   \n",
       "\n",
       "              night         relax       running           sad        summer  \\\n",
       "count  40060.000000  40060.000000  40060.000000  40060.000000  40060.000000   \n",
       "mean       1.073090      1.057014      1.104568      1.055667      1.153944   \n",
       "std        0.260288      0.231873      0.306000      0.229279      0.360900   \n",
       "min        1.000000      1.000000      1.000000      1.000000      1.000000   \n",
       "25%        1.000000      1.000000      1.000000      1.000000      1.000000   \n",
       "50%        1.000000      1.000000      1.000000      1.000000      1.000000   \n",
       "75%        1.000000      1.000000      1.000000      1.000000      1.000000   \n",
       "max        2.000000      2.000000      2.000000      2.000000      2.000000   \n",
       "\n",
       "               work       workout  \n",
       "count  40060.000000  40060.000000  \n",
       "mean       1.104768      1.078058  \n",
       "std        0.306258      0.268266  \n",
       "min        1.000000      1.000000  \n",
       "25%        1.000000      1.000000  \n",
       "50%        1.000000      1.000000  \n",
       "75%        1.000000      1.000000  \n",
       "max        2.000000      2.000000  "
      ]
     },
     "execution_count": 5,
     "metadata": {},
     "output_type": "execute_result"
    }
   ],
   "source": [
    "train.groupby(\"song_id\").nunique().describe()"
   ]
  },
  {
   "cell_type": "code",
   "execution_count": 8,
   "metadata": {},
   "outputs": [],
   "source": [
    "test = pd.read_csv(\"user_based_contexts_tagging/GroundTruth/test_active_clipped.csv\")"
   ]
  },
  {
   "cell_type": "code",
   "execution_count": 9,
   "metadata": {},
   "outputs": [
    {
     "data": {
      "text/html": [
       "<div>\n",
       "<style scoped>\n",
       "    .dataframe tbody tr th:only-of-type {\n",
       "        vertical-align: middle;\n",
       "    }\n",
       "\n",
       "    .dataframe tbody tr th {\n",
       "        vertical-align: top;\n",
       "    }\n",
       "\n",
       "    .dataframe thead th {\n",
       "        text-align: right;\n",
       "    }\n",
       "</style>\n",
       "<table border=\"1\" class=\"dataframe\">\n",
       "  <thead>\n",
       "    <tr style=\"text-align: right;\">\n",
       "      <th></th>\n",
       "      <th>song_id</th>\n",
       "      <th>user_id</th>\n",
       "      <th>car</th>\n",
       "      <th>gym</th>\n",
       "      <th>happy</th>\n",
       "      <th>night</th>\n",
       "      <th>relax</th>\n",
       "      <th>running</th>\n",
       "      <th>sad</th>\n",
       "      <th>summer</th>\n",
       "      <th>work</th>\n",
       "      <th>workout</th>\n",
       "    </tr>\n",
       "  </thead>\n",
       "  <tbody>\n",
       "    <tr>\n",
       "      <th>count</th>\n",
       "      <td>24716.0</td>\n",
       "      <td>24716.000000</td>\n",
       "      <td>24716.000000</td>\n",
       "      <td>24716.000000</td>\n",
       "      <td>24716.000000</td>\n",
       "      <td>24716.000000</td>\n",
       "      <td>24716.000000</td>\n",
       "      <td>24716.000000</td>\n",
       "      <td>24716.000000</td>\n",
       "      <td>24716.000000</td>\n",
       "      <td>24716.000000</td>\n",
       "      <td>24716.000000</td>\n",
       "    </tr>\n",
       "    <tr>\n",
       "      <th>mean</th>\n",
       "      <td>1.0</td>\n",
       "      <td>2.015901</td>\n",
       "      <td>1.091034</td>\n",
       "      <td>1.103617</td>\n",
       "      <td>1.061458</td>\n",
       "      <td>1.057169</td>\n",
       "      <td>1.044991</td>\n",
       "      <td>1.080434</td>\n",
       "      <td>1.051060</td>\n",
       "      <td>1.119477</td>\n",
       "      <td>1.075821</td>\n",
       "      <td>1.061013</td>\n",
       "    </tr>\n",
       "    <tr>\n",
       "      <th>std</th>\n",
       "      <td>0.0</td>\n",
       "      <td>2.857438</td>\n",
       "      <td>0.287663</td>\n",
       "      <td>0.304769</td>\n",
       "      <td>0.240174</td>\n",
       "      <td>0.232171</td>\n",
       "      <td>0.207289</td>\n",
       "      <td>0.271969</td>\n",
       "      <td>0.220125</td>\n",
       "      <td>0.324356</td>\n",
       "      <td>0.264717</td>\n",
       "      <td>0.239359</td>\n",
       "    </tr>\n",
       "    <tr>\n",
       "      <th>min</th>\n",
       "      <td>1.0</td>\n",
       "      <td>1.000000</td>\n",
       "      <td>1.000000</td>\n",
       "      <td>1.000000</td>\n",
       "      <td>1.000000</td>\n",
       "      <td>1.000000</td>\n",
       "      <td>1.000000</td>\n",
       "      <td>1.000000</td>\n",
       "      <td>1.000000</td>\n",
       "      <td>1.000000</td>\n",
       "      <td>1.000000</td>\n",
       "      <td>1.000000</td>\n",
       "    </tr>\n",
       "    <tr>\n",
       "      <th>25%</th>\n",
       "      <td>1.0</td>\n",
       "      <td>1.000000</td>\n",
       "      <td>1.000000</td>\n",
       "      <td>1.000000</td>\n",
       "      <td>1.000000</td>\n",
       "      <td>1.000000</td>\n",
       "      <td>1.000000</td>\n",
       "      <td>1.000000</td>\n",
       "      <td>1.000000</td>\n",
       "      <td>1.000000</td>\n",
       "      <td>1.000000</td>\n",
       "      <td>1.000000</td>\n",
       "    </tr>\n",
       "    <tr>\n",
       "      <th>50%</th>\n",
       "      <td>1.0</td>\n",
       "      <td>1.000000</td>\n",
       "      <td>1.000000</td>\n",
       "      <td>1.000000</td>\n",
       "      <td>1.000000</td>\n",
       "      <td>1.000000</td>\n",
       "      <td>1.000000</td>\n",
       "      <td>1.000000</td>\n",
       "      <td>1.000000</td>\n",
       "      <td>1.000000</td>\n",
       "      <td>1.000000</td>\n",
       "      <td>1.000000</td>\n",
       "    </tr>\n",
       "    <tr>\n",
       "      <th>75%</th>\n",
       "      <td>1.0</td>\n",
       "      <td>2.000000</td>\n",
       "      <td>1.000000</td>\n",
       "      <td>1.000000</td>\n",
       "      <td>1.000000</td>\n",
       "      <td>1.000000</td>\n",
       "      <td>1.000000</td>\n",
       "      <td>1.000000</td>\n",
       "      <td>1.000000</td>\n",
       "      <td>1.000000</td>\n",
       "      <td>1.000000</td>\n",
       "      <td>1.000000</td>\n",
       "    </tr>\n",
       "    <tr>\n",
       "      <th>max</th>\n",
       "      <td>1.0</td>\n",
       "      <td>69.000000</td>\n",
       "      <td>2.000000</td>\n",
       "      <td>2.000000</td>\n",
       "      <td>2.000000</td>\n",
       "      <td>2.000000</td>\n",
       "      <td>2.000000</td>\n",
       "      <td>2.000000</td>\n",
       "      <td>2.000000</td>\n",
       "      <td>2.000000</td>\n",
       "      <td>2.000000</td>\n",
       "      <td>2.000000</td>\n",
       "    </tr>\n",
       "  </tbody>\n",
       "</table>\n",
       "</div>"
      ],
      "text/plain": [
       "       song_id       user_id           car           gym         happy  \\\n",
       "count  24716.0  24716.000000  24716.000000  24716.000000  24716.000000   \n",
       "mean       1.0      2.015901      1.091034      1.103617      1.061458   \n",
       "std        0.0      2.857438      0.287663      0.304769      0.240174   \n",
       "min        1.0      1.000000      1.000000      1.000000      1.000000   \n",
       "25%        1.0      1.000000      1.000000      1.000000      1.000000   \n",
       "50%        1.0      1.000000      1.000000      1.000000      1.000000   \n",
       "75%        1.0      2.000000      1.000000      1.000000      1.000000   \n",
       "max        1.0     69.000000      2.000000      2.000000      2.000000   \n",
       "\n",
       "              night         relax       running           sad        summer  \\\n",
       "count  24716.000000  24716.000000  24716.000000  24716.000000  24716.000000   \n",
       "mean       1.057169      1.044991      1.080434      1.051060      1.119477   \n",
       "std        0.232171      0.207289      0.271969      0.220125      0.324356   \n",
       "min        1.000000      1.000000      1.000000      1.000000      1.000000   \n",
       "25%        1.000000      1.000000      1.000000      1.000000      1.000000   \n",
       "50%        1.000000      1.000000      1.000000      1.000000      1.000000   \n",
       "75%        1.000000      1.000000      1.000000      1.000000      1.000000   \n",
       "max        2.000000      2.000000      2.000000      2.000000      2.000000   \n",
       "\n",
       "               work       workout  \n",
       "count  24716.000000  24716.000000  \n",
       "mean       1.075821      1.061013  \n",
       "std        0.264717      0.239359  \n",
       "min        1.000000      1.000000  \n",
       "25%        1.000000      1.000000  \n",
       "50%        1.000000      1.000000  \n",
       "75%        1.000000      1.000000  \n",
       "max        2.000000      2.000000  "
      ]
     },
     "execution_count": 9,
     "metadata": {},
     "output_type": "execute_result"
    }
   ],
   "source": [
    "test.groupby(\"song_id\").nunique().describe()"
   ]
  },
  {
   "cell_type": "markdown",
   "metadata": {},
   "source": [
    "## creating single-label dataset"
   ]
  },
  {
   "cell_type": "code",
   "execution_count": 3,
   "metadata": {},
   "outputs": [],
   "source": [
    "source_path = \"/srv/workspace/research/user_based_contexts_tagging/GroundTruth/\"\n",
    "train_gt = pd.read_csv(source_path + \"train_ground_truth_binarized.csv\")\n",
    "train_gt.drop([\"chill\",\"club\",\"dance\",\"sleep\",'party'],inplace=True,axis=1)"
   ]
  },
  {
   "cell_type": "code",
   "execution_count": 4,
   "metadata": {},
   "outputs": [],
   "source": [
    "# get only values with single label \n",
    "train_gt = train_gt[train_gt.iloc[:,2:].sum(axis=1) == 1]"
   ]
  },
  {
   "cell_type": "code",
   "execution_count": 5,
   "metadata": {},
   "outputs": [],
   "source": [
    "# get tracks with multiple users >=5 and less than 10\n",
    "grouped = train_gt.groupby(\"song_id\").nunique()\n",
    "moreThan5 = grouped[grouped.user_id >= 5].index\n",
    "lessthan10 = grouped[grouped.user_id <= 10].index\n",
    "#lessthan10 = (train_gt.groupby(\"song_id\").nunique().user_id <= 10).index\n",
    "tracks_with_multiple_users = list(set(moreThan5).intersection(lessthan10))\n",
    "train_gt_multiple_users = train_gt[train_gt.song_id.isin(tracks_with_multiple_users)]\n",
    "#train_gt.groupby(\"song_id\").nunique().user_id.sort_values(ascending=False)"
   ]
  },
  {
   "cell_type": "code",
   "execution_count": 6,
   "metadata": {},
   "outputs": [],
   "source": [
    "# get tracks with multiple labels >=3\n",
    "train_gt_no_user = train_gt_multiple_users.drop(\"user_id\",axis =1)\n",
    "train_gt_no_user = train_gt_no_user.drop_duplicates()\n",
    "summed = train_gt_no_user.groupby(\"song_id\").sum(axis = 1)\n",
    "tracks_with_multiple_labels = summed[summed.sum(axis = 1) >= 3].index"
   ]
  },
  {
   "cell_type": "code",
   "execution_count": 7,
   "metadata": {},
   "outputs": [
    {
     "data": {
      "text/plain": [
       "'\\nIgnoring this because we get very few samples\\n'"
      ]
     },
     "execution_count": 7,
     "metadata": {},
     "output_type": "execute_result"
    }
   ],
   "source": [
    "train_gt_multiple_users_labels = train_gt_multiple_users[train_gt_multiple_users.song_id.isin(tracks_with_multiple_labels)]\n",
    "\n",
    "# get users with multiple labels >=2\n",
    "\"\"\"\n",
    "Ignoring this because we get very few samples\n",
    "\"\"\"\n",
    "#train_gt_no_track = train_gt_multiple_users.drop(\"song_id\",axis =1)\n",
    "#train_gt_no_track = train_gt_no_track.drop_duplicates()\n",
    "#summed = train_gt_no_track.groupby(\"user_id\").sum(axis = 1)\n",
    "#users_with_multiple_labels = summed[summed.sum(axis = 1) >= 2].index\n",
    "#train_gt_multiple_users_labels_tracks = train_gt_multiple_users_labels[train_gt_multiple_users_labels.song_id.isin(users_with_multiple_labels)]"
   ]
  },
  {
   "cell_type": "code",
   "execution_count": 8,
   "metadata": {},
   "outputs": [
    {
     "data": {
      "text/plain": [
       "47644"
      ]
     },
     "execution_count": 8,
     "metadata": {},
     "output_type": "execute_result"
    }
   ],
   "source": [
    "# select subset of 30000 tracks\n",
    "import random\n",
    "tracks_ids = train_gt_multiple_users_labels.song_id.unique()\n",
    "random.shuffle(tracks_ids)\n",
    "selected_tracks = tracks_ids[:15000]\n",
    "train_final = train_gt_multiple_users_labels[train_gt_multiple_users_labels.song_id.isin(selected_tracks)]\n",
    "train_final.user_id.nunique()"
   ]
  },
  {
   "cell_type": "code",
   "execution_count": 9,
   "metadata": {},
   "outputs": [
    {
     "data": {
      "text/plain": [
       "102865"
      ]
     },
     "execution_count": 9,
     "metadata": {},
     "output_type": "execute_result"
    }
   ],
   "source": [
    "train_final.to_csv(source_path+\"train_single.csv\",index=False)\n",
    "len(train_final)"
   ]
  },
  {
   "cell_type": "markdown",
   "metadata": {},
   "source": [
    "#### Test set"
   ]
  },
  {
   "cell_type": "code",
   "execution_count": 2,
   "metadata": {},
   "outputs": [],
   "source": [
    "source_path = \"/srv/workspace/research/user_based_contexts_tagging/GroundTruth/\"\n",
    "train_gt = pd.read_csv(source_path + \"test_ground_truth_binarized.csv\")\n",
    "train_gt.drop([\"chill\",\"club\",\"dance\",\"sleep\",'party'],inplace=True,axis=1)"
   ]
  },
  {
   "cell_type": "code",
   "execution_count": 3,
   "metadata": {},
   "outputs": [],
   "source": [
    "# get only values with single label \n",
    "train_gt = train_gt[train_gt.iloc[:,2:].sum(axis=1) == 1]"
   ]
  },
  {
   "cell_type": "code",
   "execution_count": 4,
   "metadata": {},
   "outputs": [],
   "source": [
    "# get tracks with multiple users >=5 and less than 10\n",
    "grouped = train_gt.groupby(\"song_id\").nunique()\n",
    "moreThan5 = grouped[grouped.user_id >= 5].index\n",
    "lessthan10 = grouped[grouped.user_id <= 10].index\n",
    "#lessthan10 = (train_gt.groupby(\"song_id\").nunique().user_id <= 10).index\n",
    "tracks_with_multiple_users = list(set(moreThan5).intersection(lessthan10))\n",
    "train_gt_multiple_users = train_gt[train_gt.song_id.isin(tracks_with_multiple_users)]\n",
    "#train_gt.groupby(\"song_id\").nunique().user_id.sort_values(ascending=False)"
   ]
  },
  {
   "cell_type": "code",
   "execution_count": 5,
   "metadata": {},
   "outputs": [],
   "source": [
    "# get tracks with multiple labels >=3\n",
    "train_gt_no_user = train_gt_multiple_users.drop(\"user_id\",axis =1)\n",
    "train_gt_no_user = train_gt_no_user.drop_duplicates()\n",
    "summed = train_gt_no_user.groupby(\"song_id\").sum(axis = 1)\n",
    "tracks_with_multiple_labels = summed[summed.sum(axis = 1) >= 3].index"
   ]
  },
  {
   "cell_type": "code",
   "execution_count": 6,
   "metadata": {},
   "outputs": [
    {
     "data": {
      "text/plain": [
       "'\\nIgnoring this because we get very few samples\\n'"
      ]
     },
     "execution_count": 6,
     "metadata": {},
     "output_type": "execute_result"
    }
   ],
   "source": [
    "train_gt_multiple_users_labels = train_gt_multiple_users[train_gt_multiple_users.song_id.isin(tracks_with_multiple_labels)]\n",
    "\n",
    "# get users with multiple labels >=2\n",
    "\"\"\"\n",
    "Ignoring this because we get very few samples\n",
    "\"\"\"\n",
    "#train_gt_no_track = train_gt_multiple_users.drop(\"song_id\",axis =1)\n",
    "#train_gt_no_track = train_gt_no_track.drop_duplicates()\n",
    "#summed = train_gt_no_track.groupby(\"user_id\").sum(axis = 1)\n",
    "#users_with_multiple_labels = summed[summed.sum(axis = 1) >= 2].index\n",
    "#train_gt_multiple_users_labels_tracks = train_gt_multiple_users_labels[train_gt_multiple_users_labels.song_id.isin(users_with_multiple_labels)]"
   ]
  },
  {
   "cell_type": "code",
   "execution_count": 1,
   "metadata": {},
   "outputs": [
    {
     "ename": "NameError",
     "evalue": "name 'train_gt_multiple_users_labels' is not defined",
     "output_type": "error",
     "traceback": [
      "\u001b[0;31m---------------------------------------------------------------------------\u001b[0m",
      "\u001b[0;31mNameError\u001b[0m                                 Traceback (most recent call last)",
      "\u001b[0;32m<ipython-input-1-a2572793c4a9>\u001b[0m in \u001b[0;36m<module>\u001b[0;34m\u001b[0m\n\u001b[1;32m      1\u001b[0m \u001b[0;31m# select subset of 30000 tracks\u001b[0m\u001b[0;34m\u001b[0m\u001b[0;34m\u001b[0m\u001b[0m\n\u001b[1;32m      2\u001b[0m \u001b[0;32mimport\u001b[0m \u001b[0mrandom\u001b[0m\u001b[0;34m\u001b[0m\u001b[0m\n\u001b[0;32m----> 3\u001b[0;31m \u001b[0mtracks_ids\u001b[0m \u001b[0;34m=\u001b[0m \u001b[0mtrain_gt_multiple_users_labels\u001b[0m\u001b[0;34m.\u001b[0m\u001b[0msong_id\u001b[0m\u001b[0;34m.\u001b[0m\u001b[0munique\u001b[0m\u001b[0;34m(\u001b[0m\u001b[0;34m)\u001b[0m\u001b[0;34m\u001b[0m\u001b[0m\n\u001b[0m\u001b[1;32m      4\u001b[0m \u001b[0mrandom\u001b[0m\u001b[0;34m.\u001b[0m\u001b[0mshuffle\u001b[0m\u001b[0;34m(\u001b[0m\u001b[0mtracks_ids\u001b[0m\u001b[0;34m)\u001b[0m\u001b[0;34m\u001b[0m\u001b[0m\n\u001b[1;32m      5\u001b[0m \u001b[0mselected_tracks\u001b[0m \u001b[0;34m=\u001b[0m \u001b[0mtracks_ids\u001b[0m\u001b[0;34m[\u001b[0m\u001b[0;34m:\u001b[0m\u001b[0;36m7500\u001b[0m\u001b[0;34m]\u001b[0m\u001b[0;34m\u001b[0m\u001b[0m\n",
      "\u001b[0;31mNameError\u001b[0m: name 'train_gt_multiple_users_labels' is not defined"
     ]
    }
   ],
   "source": [
    "# select subset of 30000 tracks\n",
    "import random\n",
    "tracks_ids = train_gt_multiple_users_labels.song_id.unique()\n",
    "random.shuffle(tracks_ids)\n",
    "selected_tracks = tracks_ids[:7500]\n",
    "train_final = train_gt_multiple_users_labels[train_gt_multiple_users_labels.song_id.isin(selected_tracks)]\n",
    "train_final.user_id.nunique()"
   ]
  },
  {
   "cell_type": "code",
   "execution_count": 9,
   "metadata": {},
   "outputs": [
    {
     "data": {
      "text/plain": [
       "51120"
      ]
     },
     "execution_count": 9,
     "metadata": {},
     "output_type": "execute_result"
    }
   ],
   "source": [
    "train_final.to_csv(source_path+\"test_single.csv\",index=False)\n",
    "len(train_final)"
   ]
  },
  {
   "cell_type": "markdown",
   "metadata": {},
   "source": [
    "#### validation set"
   ]
  },
  {
   "cell_type": "code",
   "execution_count": 97,
   "metadata": {},
   "outputs": [],
   "source": [
    "source_path = \"/srv/workspace/research/user_based_contexts_tagging/GroundTruth/\"\n",
    "train_gt = pd.read_csv(source_path + \"validation_ground_truth_binarized.csv\")\n",
    "train_gt.drop([\"chill\",\"club\",\"dance\",\"sleep\",'party'],inplace=True,axis=1)"
   ]
  },
  {
   "cell_type": "code",
   "execution_count": 98,
   "metadata": {},
   "outputs": [],
   "source": [
    "# get only values with single label \n",
    "train_gt = train_gt[train_gt.iloc[:,2:].sum(axis=1) == 1]"
   ]
  },
  {
   "cell_type": "code",
   "execution_count": 4,
   "metadata": {},
   "outputs": [],
   "source": [
    "# get tracks with multiple users >=5 and less than 10\n",
    "grouped = train_gt.groupby(\"song_id\").nunique()\n",
    "moreThan5 = grouped[grouped.user_id >= 5].index\n",
    "lessthan10 = grouped[grouped.user_id <= 10].index\n",
    "#lessthan10 = (train_gt.groupby(\"song_id\").nunique().user_id <= 10).index\n",
    "tracks_with_multiple_users = list(set(moreThan5).intersection(lessthan10))\n",
    "train_gt_multiple_users = train_gt[train_gt.song_id.isin(tracks_with_multiple_users)]\n",
    "#train_gt.groupby(\"song_id\").nunique().user_id.sort_values(ascending=False)"
   ]
  },
  {
   "cell_type": "code",
   "execution_count": 5,
   "metadata": {},
   "outputs": [],
   "source": [
    "# get tracks with multiple labels >=3\n",
    "train_gt_no_user = train_gt_multiple_users.drop(\"user_id\",axis =1)\n",
    "train_gt_no_user = train_gt_no_user.drop_duplicates()\n",
    "summed = train_gt_no_user.groupby(\"song_id\").sum(axis = 1)\n",
    "tracks_with_multiple_labels = summed[summed.sum(axis = 1) >= 3].index"
   ]
  },
  {
   "cell_type": "code",
   "execution_count": 6,
   "metadata": {},
   "outputs": [
    {
     "data": {
      "text/plain": [
       "'\\nIgnoring this because we get very few samples\\n'"
      ]
     },
     "execution_count": 6,
     "metadata": {},
     "output_type": "execute_result"
    }
   ],
   "source": [
    "train_gt_multiple_users_labels = train_gt_multiple_users[train_gt_multiple_users.song_id.isin(tracks_with_multiple_labels)]\n",
    "\n",
    "# get users with multiple labels >=2\n",
    "\"\"\"\n",
    "Ignoring this because we get very few samples\n",
    "\"\"\"\n",
    "#train_gt_no_track = train_gt_multiple_users.drop(\"song_id\",axis =1)\n",
    "#train_gt_no_track = train_gt_no_track.drop_duplicates()\n",
    "#summed = train_gt_no_track.groupby(\"user_id\").sum(axis = 1)\n",
    "#users_with_multiple_labels = summed[summed.sum(axis = 1) >= 2].index\n",
    "#train_gt_multiple_users_labels_tracks = train_gt_multiple_users_labels[train_gt_multiple_users_labels.song_id.isin(users_with_multiple_labels)]"
   ]
  },
  {
   "cell_type": "code",
   "execution_count": 7,
   "metadata": {},
   "outputs": [
    {
     "data": {
      "text/plain": [
       "23154"
      ]
     },
     "execution_count": 7,
     "metadata": {},
     "output_type": "execute_result"
    }
   ],
   "source": [
    "# select subset of 30000 tracks\n",
    "import random\n",
    "tracks_ids = train_gt_multiple_users_labels.song_id.unique()\n",
    "random.shuffle(tracks_ids)\n",
    "selected_tracks = tracks_ids[:7500]\n",
    "train_final = train_gt_multiple_users_labels[train_gt_multiple_users_labels.song_id.isin(selected_tracks)]\n",
    "train_final.user_id.nunique()"
   ]
  },
  {
   "cell_type": "code",
   "execution_count": 8,
   "metadata": {},
   "outputs": [
    {
     "data": {
      "text/plain": [
       "30275"
      ]
     },
     "execution_count": 8,
     "metadata": {},
     "output_type": "execute_result"
    }
   ],
   "source": [
    "train_final.to_csv(source_path+\"validation_single.csv\",index=False)\n",
    "len(train_final)"
   ]
  },
  {
   "cell_type": "code",
   "execution_count": 12,
   "metadata": {},
   "outputs": [
    {
     "data": {
      "text/plain": [
       "<matplotlib.axes._subplots.AxesSubplot at 0x7f09995625f8>"
      ]
     },
     "execution_count": 12,
     "metadata": {},
     "output_type": "execute_result"
    },
    {
     "data": {
      "image/png": "[encoded data removed]",
      "text/plain": [
       "<Figure size 1152x432 with 1 Axes>"
      ]
     },
     "metadata": {
      "needs_background": "light"
     },
     "output_type": "display_data"
    }
   ],
   "source": [
    "train.iloc[:,2:].sum(axis=0).sort_values(ascending=False).plot(kind='bar', figsize=(16,6))"
   ]
  },
  {
   "cell_type": "code",
   "execution_count": 20,
   "metadata": {},
   "outputs": [
    {
     "data": {
      "text/html": [
       "<div>\n",
       "<style scoped>\n",
       "    .dataframe tbody tr th:only-of-type {\n",
       "        vertical-align: middle;\n",
       "    }\n",
       "\n",
       "    .dataframe tbody tr th {\n",
       "        vertical-align: top;\n",
       "    }\n",
       "\n",
       "    .dataframe thead th {\n",
       "        text-align: right;\n",
       "    }\n",
       "</style>\n",
       "<table border=\"1\" class=\"dataframe\">\n",
       "  <thead>\n",
       "    <tr style=\"text-align: right;\">\n",
       "      <th></th>\n",
       "      <th>song_id</th>\n",
       "      <th>car</th>\n",
       "      <th>gym</th>\n",
       "      <th>happy</th>\n",
       "      <th>night</th>\n",
       "      <th>relax</th>\n",
       "      <th>running</th>\n",
       "      <th>sad</th>\n",
       "      <th>summer</th>\n",
       "      <th>work</th>\n",
       "      <th>workout</th>\n",
       "    </tr>\n",
       "    <tr>\n",
       "      <th>user_id</th>\n",
       "      <th></th>\n",
       "      <th></th>\n",
       "      <th></th>\n",
       "      <th></th>\n",
       "      <th></th>\n",
       "      <th></th>\n",
       "      <th></th>\n",
       "      <th></th>\n",
       "      <th></th>\n",
       "      <th></th>\n",
       "      <th></th>\n",
       "    </tr>\n",
       "  </thead>\n",
       "  <tbody>\n",
       "    <tr>\n",
       "      <th>5</th>\n",
       "      <td>4172</td>\n",
       "      <td>4172</td>\n",
       "      <td>4172</td>\n",
       "      <td>4172</td>\n",
       "      <td>4172</td>\n",
       "      <td>4172</td>\n",
       "      <td>4172</td>\n",
       "      <td>4172</td>\n",
       "      <td>4172</td>\n",
       "      <td>4172</td>\n",
       "      <td>4172</td>\n",
       "    </tr>\n",
       "    <tr>\n",
       "      <th>6</th>\n",
       "      <td>3240</td>\n",
       "      <td>3240</td>\n",
       "      <td>3240</td>\n",
       "      <td>3240</td>\n",
       "      <td>3240</td>\n",
       "      <td>3240</td>\n",
       "      <td>3240</td>\n",
       "      <td>3240</td>\n",
       "      <td>3240</td>\n",
       "      <td>3240</td>\n",
       "      <td>3240</td>\n",
       "    </tr>\n",
       "    <tr>\n",
       "      <th>7</th>\n",
       "      <td>2605</td>\n",
       "      <td>2605</td>\n",
       "      <td>2605</td>\n",
       "      <td>2605</td>\n",
       "      <td>2605</td>\n",
       "      <td>2605</td>\n",
       "      <td>2605</td>\n",
       "      <td>2605</td>\n",
       "      <td>2605</td>\n",
       "      <td>2605</td>\n",
       "      <td>2605</td>\n",
       "    </tr>\n",
       "    <tr>\n",
       "      <th>8</th>\n",
       "      <td>1933</td>\n",
       "      <td>1933</td>\n",
       "      <td>1933</td>\n",
       "      <td>1933</td>\n",
       "      <td>1933</td>\n",
       "      <td>1933</td>\n",
       "      <td>1933</td>\n",
       "      <td>1933</td>\n",
       "      <td>1933</td>\n",
       "      <td>1933</td>\n",
       "      <td>1933</td>\n",
       "    </tr>\n",
       "    <tr>\n",
       "      <th>9</th>\n",
       "      <td>1634</td>\n",
       "      <td>1634</td>\n",
       "      <td>1634</td>\n",
       "      <td>1634</td>\n",
       "      <td>1634</td>\n",
       "      <td>1634</td>\n",
       "      <td>1634</td>\n",
       "      <td>1634</td>\n",
       "      <td>1634</td>\n",
       "      <td>1634</td>\n",
       "      <td>1634</td>\n",
       "    </tr>\n",
       "    <tr>\n",
       "      <th>10</th>\n",
       "      <td>1416</td>\n",
       "      <td>1416</td>\n",
       "      <td>1416</td>\n",
       "      <td>1416</td>\n",
       "      <td>1416</td>\n",
       "      <td>1416</td>\n",
       "      <td>1416</td>\n",
       "      <td>1416</td>\n",
       "      <td>1416</td>\n",
       "      <td>1416</td>\n",
       "      <td>1416</td>\n",
       "    </tr>\n",
       "  </tbody>\n",
       "</table>\n",
       "</div>"
      ],
      "text/plain": [
       "         song_id   car   gym  happy  night  relax  running   sad  summer  \\\n",
       "user_id                                                                    \n",
       "5           4172  4172  4172   4172   4172   4172     4172  4172    4172   \n",
       "6           3240  3240  3240   3240   3240   3240     3240  3240    3240   \n",
       "7           2605  2605  2605   2605   2605   2605     2605  2605    2605   \n",
       "8           1933  1933  1933   1933   1933   1933     1933  1933    1933   \n",
       "9           1634  1634  1634   1634   1634   1634     1634  1634    1634   \n",
       "10          1416  1416  1416   1416   1416   1416     1416  1416    1416   \n",
       "\n",
       "         work  workout  \n",
       "user_id                 \n",
       "5        4172     4172  \n",
       "6        3240     3240  \n",
       "7        2605     2605  \n",
       "8        1933     1933  \n",
       "9        1634     1634  \n",
       "10       1416     1416  "
      ]
     },
     "execution_count": 20,
     "metadata": {},
     "output_type": "execute_result"
    }
   ],
   "source": [
    "train.groupby(\"song_id\").nunique().groupby(\"user_id\").count()"
   ]
  },
  {
   "cell_type": "markdown",
   "metadata": {},
   "source": [
    "## make it multilabel"
   ]
  },
  {
   "cell_type": "code",
   "execution_count": 14,
   "metadata": {},
   "outputs": [],
   "source": [
    "train = pd.read_csv(source_path + \"train_single.csv\")\n",
    "train.drop(\"user_id\",axis = 1, inplace=True)\n",
    "train_multilabel = train.groupby(\"song_id\").sum()\n",
    "train_multilabel[train_multilabel>1] = 1\n",
    "train_multilabel = train_multilabel.reset_index()\n",
    "train_multilabel.to_csv(source_path+\"train_single_multipllized.csv\", index = False)"
   ]
  },
  {
   "cell_type": "code",
   "execution_count": 16,
   "metadata": {},
   "outputs": [],
   "source": [
    "# for test\n",
    "train = pd.read_csv(source_path + \"test_single.csv\")\n",
    "train.drop(\"user_id\",axis = 1, inplace=True)\n",
    "train_multilabel = train.groupby(\"song_id\").sum()\n",
    "train_multilabel[train_multilabel>1] = 1\n",
    "train_multilabel = train_multilabel.reset_index()\n",
    "train_multilabel.to_csv(source_path+\"test_single_multipllized.csv\", index = False)"
   ]
  },
  {
   "cell_type": "code",
   "execution_count": 18,
   "metadata": {},
   "outputs": [],
   "source": [
    "# for validation\n",
    "train = pd.read_csv(source_path + \"validation_single.csv\")\n",
    "train.drop(\"user_id\",axis = 1, inplace=True)\n",
    "train_multilabel = train.groupby(\"song_id\").sum()\n",
    "train_multilabel[train_multilabel>1] = 1\n",
    "train_multilabel = train_multilabel.reset_index()\n",
    "train_multilabel.to_csv(source_path+\"validation_single_multipllized.csv\", index = False)"
   ]
  },
  {
   "cell_type": "code",
   "execution_count": 20,
   "metadata": {},
   "outputs": [],
   "source": [
    "train = pd.read_csv(source_path + \"train_single_multipllized.csv\")\n",
    "test = pd.read_csv(source_path + \"test_single_multipllized.csv\")\n",
    "valid = pd.read_csv(source_path + \"validation_single_multipllized.csv\")"
   ]
  },
  {
   "cell_type": "code",
   "execution_count": 39,
   "metadata": {},
   "outputs": [],
   "source": [
    "all_samples = pd.concat([train,test,valid])"
   ]
  },
  {
   "cell_type": "code",
   "execution_count": 40,
   "metadata": {},
   "outputs": [],
   "source": [
    "all_samples = all_samples.groupby(\"song_id\").sum()\n",
    "all_samples[all_samples>1] = 1\n",
    "all_samples = all_samples.reset_index()"
   ]
  },
  {
   "cell_type": "code",
   "execution_count": 42,
   "metadata": {},
   "outputs": [],
   "source": [
    "all_samples.to_csv(source_path+\"all_multipllized.csv\", index = False)"
   ]
  },
  {
   "cell_type": "markdown",
   "metadata": {},
   "source": [
    "## dataset stats"
   ]
  },
  {
   "cell_type": "code",
   "execution_count": 99,
   "metadata": {},
   "outputs": [
    {
     "data": {
      "text/plain": [
       "'\\nsource_path = \"/srv/workspace/research/user_based_contexts_tagging/GroundTruth/\"\\ntrain = pd.read_csv(source_path + \"train_single.csv\")\\ntest = pd.read_csv(source_path + \"test_single.csv\")\\nvalid = pd.read_csv(source_path + \"validation_single.csv\")\\n#all_samples = pd.concat([train,test,valid])\\n'"
      ]
     },
     "execution_count": 99,
     "metadata": {},
     "output_type": "execute_result"
    }
   ],
   "source": [
    "# i'll compute on the complete dataset\n",
    "\"\"\"\n",
    "source_path = \"/srv/workspace/research/user_based_contexts_tagging/GroundTruth/\"\n",
    "train = pd.read_csv(source_path + \"train_single.csv\")\n",
    "test = pd.read_csv(source_path + \"test_single.csv\")\n",
    "valid = pd.read_csv(source_path + \"validation_single.csv\")\n",
    "#all_samples = pd.concat([train,test,valid])\n",
    "\"\"\""
   ]
  },
  {
   "cell_type": "code",
   "execution_count": 33,
   "metadata": {},
   "outputs": [],
   "source": [
    "#all_samples = pd.concat([train,test,valid])"
   ]
  },
  {
   "cell_type": "code",
   "execution_count": 9,
   "metadata": {},
   "outputs": [],
   "source": [
    "source_path = \"/srv/workspace/research/user_based_contexts_tagging/GroundTruth/\"\n",
    "train_gt = pd.read_csv(source_path + \"all_labels_binarized.csv\")\n",
    "train_gt.drop([\"chill\",\"club\",\"dance\",\"sleep\",'party'],inplace=True,axis=1)\n",
    "train_gt = train_gt[train_gt.iloc[:,2:].sum(axis=1) != 0]"
   ]
  },
  {
   "cell_type": "code",
   "execution_count": 48,
   "metadata": {},
   "outputs": [],
   "source": [
    "import seaborn as sns\n",
    "sns.set(color_codes=True)\n",
    "number_labels = train_gt.values[:,2:].sum(axis =1)                                    "
   ]
  },
  {
   "cell_type": "code",
   "execution_count": 50,
   "metadata": {},
   "outputs": [
    {
     "data": {
      "image/png": "[encoded data removed]",
      "text/plain": [
       "<Figure size 720x504 with 1 Axes>"
      ]
     },
     "metadata": {},
     "output_type": "display_data"
    }
   ],
   "source": [
    "\n",
    "#plt.hist(x, density=True, bins=30)  # `density=False` would make counts\n",
    "params = {'legend.fontsize': 'x-large',\n",
    "         'axes.labelsize': 'x-large',\n",
    "         'axes.titlesize':'x-large',\n",
    "         'xtick.labelsize':'x-large',\n",
    "         'ytick.labelsize':'x-large'}\n",
    "plt.rcParams.update(params)\n",
    "plt.figure(figsize=(10,7))\n",
    "g = sns.distplot(number_labels,kde = False,bins = range(1,7,1), hist_kws=dict(alpha=0.7,align = 'left',rwidth=0.5))\n",
    "plt.ylabel('Number of samples (log scale)', fontsize=24)\n",
    "#plt.ticklabel_format(axis='y', style='sci', scilimits=(-2,2))\n",
    "plt.xlabel('Number of contexts per sample', fontsize=24)\n",
    "plt.xticks([1,2,3,4,5])\n",
    "#plt.yticks([0.5,1,1.5,2,2.5,3])\n",
    "g.set_yscale(\"log\")\n",
    "\n",
    "g.grid(True,which=\"both\",ls=\"-\",c='gray',alpha=0.2)  \n",
    "plt.savefig(\"experiments_results/labels_dist_log.pdf\", format = 'pdf')"
   ]
  },
  {
   "cell_type": "markdown",
   "metadata": {},
   "source": [
    "### context per track"
   ]
  },
  {
   "cell_type": "code",
   "execution_count": 98,
   "metadata": {},
   "outputs": [],
   "source": [
    "\"\"\"elements = train_gt.iloc[:,2:].sum(axis =1)\n",
    "elements= list(elements)\n",
    "mydict = dict((x,elements.count(x)) for x in set(elements))\n",
    "\"\"\""
   ]
  },
  {
   "cell_type": "code",
   "execution_count": 40,
   "metadata": {},
   "outputs": [],
   "source": [
    "all_samples_songs = train_gt.drop(\"user_id\",axis = 1)\n",
    "all_samples_songs = all_samples_songs.groupby(\"song_id\").sum()\n",
    "all_samples_songs[all_samples_songs>1] = 1\n",
    "all_samples_songs = all_samples_songs.reset_index()"
   ]
  },
  {
   "cell_type": "code",
   "execution_count": 41,
   "metadata": {},
   "outputs": [],
   "source": [
    "number_labels = all_samples_songs.values[:,1:].sum(axis =1)"
   ]
  },
  {
   "cell_type": "code",
   "execution_count": 47,
   "metadata": {},
   "outputs": [
    {
     "data": {
      "image/png": "[encoded data removed]",
      "text/plain": [
       "<Figure size 720x504 with 1 Axes>"
      ]
     },
     "metadata": {},
     "output_type": "display_data"
    }
   ],
   "source": [
    "params = {'legend.fontsize': 'x-large',\n",
    "         'axes.labelsize': 'x-large',\n",
    "         'axes.titlesize':'x-large',\n",
    "         'xtick.labelsize':'x-large',\n",
    "         'ytick.labelsize':'x-large'}\n",
    "plt.rcParams.update(params)\n",
    "plt.figure(figsize=(10,7))\n",
    "g = sns.distplot(number_labels,kde = False, bins = range(1,12,1),hist_kws=dict(alpha=0.7,align = \"left\",rwidth =0.5))\n",
    "plt.ylabel('Number of tracks', fontsize=24)\n",
    "plt.xlabel('Number of contexts per track', fontsize=24)\n",
    "plt.xticks([1,2,3,4,5,6,7,8,9,10])\n",
    "#g.set_yscale(\"log\")\n",
    "g.grid(True,which=\"both\",ls=\"-\",c='gray',alpha=0.2)  \n",
    "plt.savefig(\"experiments_results/tracks_dist.pdf\", format = 'pdf')"
   ]
  },
  {
   "cell_type": "markdown",
   "metadata": {},
   "source": [
    "## Contexts per user"
   ]
  },
  {
   "cell_type": "code",
   "execution_count": 38,
   "metadata": {},
   "outputs": [],
   "source": [
    "all_samples_users = train_gt.drop(\"song_id\",axis = 1)\n",
    "all_samples_users = all_samples_users.groupby(\"user_id\").sum()\n",
    "all_samples_users[all_samples_users>1] = 1\n",
    "all_samples_users = all_samples_users.reset_index()"
   ]
  },
  {
   "cell_type": "code",
   "execution_count": 42,
   "metadata": {},
   "outputs": [
    {
     "data": {
      "image/png": "[encoded data removed]",
      "text/plain": [
       "<Figure size 720x504 with 1 Axes>"
      ]
     },
     "metadata": {},
     "output_type": "display_data"
    }
   ],
   "source": [
    "number_labels = all_samples_users.values[:,1:].sum(axis =1)\n",
    "params = {'legend.fontsize': 'x-large',\n",
    "         'axes.labelsize': 'x-large',\n",
    "         'axes.titlesize':'x-large',\n",
    "         'xtick.labelsize':'x-large',\n",
    "         'ytick.labelsize':'x-large'}\n",
    "plt.rcParams.update(params)\n",
    "plt.figure(figsize=(10,7))\n",
    "g = sns.distplot(number_labels,kde = False, bins = 20,hist_kws=dict(alpha=0.8,align='left'))\n",
    "plt.ylabel('Number of users (log scaled)', fontsize=24)\n",
    "plt.xlabel('Number of contexts per user', fontsize=24)\n",
    "g.set_yscale(\"log\")\n",
    "plt.savefig(\"experiments_results/users_dist_log.pdf\", format = 'pdf')"
   ]
  },
  {
   "cell_type": "code",
   "execution_count": 19,
   "metadata": {},
   "outputs": [
    {
     "data": {
      "image/png": "[encoded data removed]",
      "text/plain": [
       "<Figure size 432x288 with 1 Axes>"
      ]
     },
     "metadata": {},
     "output_type": "display_data"
    }
   ],
   "source": [
    "import matplotlib.pyplot as plt\n",
    "import datetime as dt\n",
    "\n",
    "fig = plt.figure()\n",
    "ax = fig.add_subplot(111)\n",
    "ax.plot([dt.datetime(2012,1,27,18,19),\n",
    "     dt.datetime(2012,1,27,18,19)], [1, 1300], 'k--', lw=2)\n",
    "ax.set_yscale('log')\n",
    "plt.show()"
   ]
  },
  {
   "cell_type": "code",
   "execution_count": null,
   "metadata": {},
   "outputs": [],
   "source": []
  },
  {
   "cell_type": "code",
   "execution_count": null,
   "metadata": {},
   "outputs": [],
   "source": []
  }
 ],
 "metadata": {
  "kernelspec": {
   "display_name": "Python 3",
   "language": "python",
   "name": "python3"
  },
  "language_info": {
   "codemirror_mode": {
    "name": "ipython",
    "version": 3
   },
   "file_extension": ".py",
   "mimetype": "text/x-python",
   "name": "python",
   "nbconvert_exporter": "python",
   "pygments_lexer": "ipython3",
   "version": "3.6.6"
  }
 },
 "nbformat": 4,
 "nbformat_minor": 2
}
