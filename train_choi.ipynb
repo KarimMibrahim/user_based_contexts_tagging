{
 "cells": [
  {
   "cell_type": "code",
   "execution_count": 2,
   "metadata": {},
   "outputs": [],
   "source": [
    "# General Imports\n",
    "import sys\n",
    "sys.path.insert(0, \"/home/research/Documents/dzr_ml_tf-master/\")\n",
    "\n",
    "import csv\n",
    "import os\n",
    "import numpy as np\n",
    "from pathlib import Path\n",
    "import pandas as pd \n",
    "import glob\n",
    "from tqdm import tqdm\n",
    "import matplotlib.pyplot as plt\n",
    "%matplotlib inline\n",
    "pd.options.display.max_rows = 10\n",
    "\n",
    "# Deep Learning\n",
    "import tensorflow as tf\n",
    "import keras\n",
    "from keras import optimizers\n",
    "from keras import backend as K\n",
    "from keras.models import Sequential, Model\n",
    "from keras.layers import Input, Convolution2D, MaxPooling2D, Dense, Dropout, Activation, Flatten, merge\n",
    "from keras.layers.normalization import BatchNormalization\n",
    "from keras.layers.advanced_activations import ELU\n",
    "#import dzr_ml_tf.data_pipeline as dp\n",
    "\n",
    "# Machine Learning preprocessing and evaluation\n",
    "\n",
    "from sklearn import preprocessing\n",
    "from sklearn.metrics import accuracy_score, precision_score, recall_score, classification_report, roc_auc_score, hamming_loss\n",
    "from sklearn.model_selection import train_test_split\n",
    "from sklearn.model_selection import ShuffleSplit, StratifiedShuffleSplit"
   ]
  },
  {
   "cell_type": "code",
   "execution_count": 3,
   "metadata": {},
   "outputs": [],
   "source": [
    "# Loading the groundtruth dataframe\n",
    "LOADING_PATH = \"/home/karim/Documents/Embeddings_dataset/GroundTruth/\"\n",
    "\n",
    "ground_truth = pd.read_pickle(os.path.join(LOADING_PATH,\"ground_truth_hot_vector.pkl\"))\n",
    "#ground_truth.drop(\"playlists_count\",axis = 1,inplace = True);\n",
    "# Check how many spectrograms exist in our ground truth data\n",
    "#print(\"number of tracks matched with our ground truth: \" + str(\n",
    "#    len(set(ground_truth.song_id).intersection(set(songs_ID)))))"
   ]
  },
  {
   "cell_type": "code",
   "execution_count": 6,
   "metadata": {},
   "outputs": [],
   "source": [
    "present_spectrograms = [int(Path(x).stem) for x in glob.glob(\"/home/karim/Documents/MelSpectograms_top20/*.npz\")]"
   ]
  },
  {
   "cell_type": "code",
   "execution_count": 10,
   "metadata": {},
   "outputs": [
    {
     "name": "stdout",
     "output_type": "stream",
     "text": [
      "number of tracks matched with our ground truth: 65447\n"
     ]
    }
   ],
   "source": [
    "# Extracting data that matched the groundtruth\n",
    "matched_songs_IDs = set(ground_truth.song_id).intersection(set(present_spectrograms))\n",
    "ground_truth_matched = ground_truth[ground_truth.song_id.isin(list(matched_songs_IDs))]\n",
    "print(\"number of tracks matched with our ground truth: \" + str(\n",
    "    len(set(ground_truth.song_id).intersection(set(present_spectrograms)))))"
   ]
  },
  {
   "cell_type": "code",
   "execution_count": null,
   "metadata": {},
   "outputs": [],
   "source": []
  },
  {
   "cell_type": "code",
   "execution_count": null,
   "metadata": {},
   "outputs": [],
   "source": []
  }
 ],
 "metadata": {
  "kernelspec": {
   "display_name": "Python 3",
   "language": "python",
   "name": "python3"
  },
  "language_info": {
   "codemirror_mode": {
    "name": "ipython",
    "version": 3
   },
   "file_extension": ".py",
   "mimetype": "text/x-python",
   "name": "python",
   "nbconvert_exporter": "python",
   "pygments_lexer": "ipython3",
   "version": "3.5.2"
  }
 },
 "nbformat": 4,
 "nbformat_minor": 2
}
