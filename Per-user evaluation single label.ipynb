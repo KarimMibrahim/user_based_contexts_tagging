{
 "cells": [
  {
   "cell_type": "code",
   "execution_count": 64,
   "metadata": {},
   "outputs": [],
   "source": [
    "import pandas as pd\n",
    "import numpy as np\n",
    "from itertools import compress\n",
    "from sklearn.metrics import cohen_kappa_score,f1_score,accuracy_score, precision_score, recall_score, classification_report, roc_auc_score, \\\n",
    "    hamming_loss\n",
    "\n",
    "\n",
    "SOURCE_PATH_embeds = \"/srv/workspace/research/user_based_contexts_tagging/experiments_results/single_label_deeper_weighted_normalized_long/2020-05-09_11-44-38\"\n",
    "gt = pd.read_csv(SOURCE_PATH_embeds + \"/groundtruth_withIDS.csv\")\n",
    "predu = pd.read_csv(SOURCE_PATH_embeds + '/probabilities_withIDS.csv')\n",
    "one_hot_u = pd.read_csv(SOURCE_PATH_embeds + '/onehot_withIDS.csv')\n",
    "SOURCE_PATH_auds = \"/srv/workspace/research/user_based_contexts_tagging/experiments_results/classic_updated_dataset_long/2020-05-08_13-17-43\"\n",
    "one_hot_a = pd.read_csv(SOURCE_PATH_auds + '/one_hoted_withIDS.csv')"
   ]
  },
  {
   "cell_type": "code",
   "execution_count": 43,
   "metadata": {},
   "outputs": [
    {
     "name": "stderr",
     "output_type": "stream",
     "text": [
      "/opt/conda/lib/python3.6/site-packages/sklearn/metrics/classification.py:1143: UndefinedMetricWarning: F-score is ill-defined and being set to 0.0 due to no predicted samples.\n",
      "  'precision', 'predicted', average, warn_for)\n",
      "/opt/conda/lib/python3.6/site-packages/sklearn/metrics/classification.py:1143: UndefinedMetricWarning: Precision is ill-defined and being set to 0.0 due to no predicted samples.\n",
      "  'precision', 'predicted', average, warn_for)\n"
     ]
    },
    {
     "data": {
      "text/plain": [
       "'\\nbestus_f1 = set()\\nfor user in users_audio_f1.index:\\n    if user_embeds_f1_mean[user] >= user_audio_f1_mean[user]:\\n        bestus_f1.add(user)\\nworstus_f1 = set(gt.user_id) - bestus_f1\\n\\n\\nbestus_recall = set()\\nfor user in users_audio_f1.index:\\n    if user_embeds_recall_mean[user] >= users_audio_recall_mean[user]:\\n        bestus_recall.add(user)\\nworstus_recall = set(gt.user_id) - bestus_recall\\n\\n'"
      ]
     },
     "execution_count": 43,
     "metadata": {},
     "output_type": "execute_result"
    }
   ],
   "source": [
    "# create a frame of NAs \n",
    "LABELS_LIST = ['car', 'gym', 'happy', 'night', 'relax',\n",
    "    'running', 'sad', 'summer', 'work', 'workout']\n",
    "users_audio_f1 = pd.DataFrame(gt.user_id.unique(),columns = [\"user_id\"])\n",
    "users_embeds_f1 = pd.DataFrame(gt.user_id.unique(),columns = [\"user_id\"])\n",
    "users_audio_recall = pd.DataFrame(gt.user_id.unique(),columns = [\"user_id\"])\n",
    "users_embeds_recall = pd.DataFrame(gt.user_id.unique(),columns = [\"user_id\"])\n",
    "users_audio_acc = pd.DataFrame(gt.user_id.unique(),columns = [\"user_id\"])\n",
    "users_embeds_acc = pd.DataFrame(gt.user_id.unique(),columns = [\"user_id\"])\n",
    "users_audio_prec = pd.DataFrame(gt.user_id.unique(),columns = [\"user_id\"])\n",
    "users_embeds_prec = pd.DataFrame(gt.user_id.unique(),columns = [\"user_id\"])\n",
    "for x in LABELS_LIST:\n",
    "    users_audio_f1[x] = np.NAN\n",
    "    users_embeds_f1[x] = np.NAN\n",
    "    users_audio_recall[x] = np.NAN\n",
    "    users_embeds_recall[x] = np.NAN\n",
    "    users_audio_acc[x] = np.NAN\n",
    "    users_embeds_acc[x] = np.NAN\n",
    "    users_audio_prec[x] = np.NAN\n",
    "    users_embeds_prec[x] = np.NAN\n",
    "users_audio_f1 = users_audio_f1.set_index(\"user_id\")\n",
    "users_embeds_f1 = users_embeds_f1.set_index(\"user_id\")\n",
    "users_audio_recall = users_audio_recall.set_index(\"user_id\")\n",
    "users_embeds_recall = users_embeds_recall.set_index(\"user_id\")\n",
    "users_audio_acc = users_audio_acc.set_index(\"user_id\")\n",
    "users_embeds_acc = users_embeds_acc.set_index(\"user_id\")\n",
    "users_audio_prec = users_audio_prec.set_index(\"user_id\")\n",
    "users_embeds_prec = users_embeds_prec.set_index(\"user_id\")\n",
    "\n",
    "# compute scores for only present labels\n",
    "for user in users_audio_f1.index:\n",
    "    user_truth = gt[gt.user_id == user]\n",
    "    user_preds_audio = one_hot_a.loc[preda.user_id == user]\n",
    "    user_preds_embeds = one_hot_u.loc[predu.user_id == user]\n",
    "    active_labels_idx = user_truth.sum() > 0\n",
    "    active_labels_idx = active_labels_idx[2:]\n",
    "    active_labels = list(compress(LABELS_LIST, active_labels_idx))\n",
    "    for label in active_labels:\n",
    "        users_audio_f1.loc[user][label] = f1_score(user_truth[label],user_preds_audio[label])\n",
    "        users_embeds_f1.loc[user][label] = f1_score(user_truth[label],user_preds_embeds[label])\n",
    "        users_audio_recall.loc[user][label] = recall_score(user_truth[label],user_preds_audio[label])\n",
    "        users_embeds_recall.loc[user][label] = recall_score(user_truth[label],user_preds_embeds[label])\n",
    "        users_audio_acc.loc[user][label] = accuracy_score(user_truth[label],user_preds_audio[label])\n",
    "        users_embeds_acc.loc[user][label] = accuracy_score(user_truth[label],user_preds_embeds[label])\n",
    "        users_audio_prec.loc[user][label] = precision_score(user_truth[label],user_preds_audio[label])\n",
    "        users_embeds_prec.loc[user][label] = precision_score(user_truth[label],user_preds_embeds[label])\n",
    "        \n",
    "# averaging per user\n",
    "user_audio_f1_mean = users_audio_f1.mean(axis=1)\n",
    "user_embeds_f1_mean = users_embeds_f1.mean(axis=1)\n",
    "\n",
    "users_audio_recall_mean = users_audio_recall.mean(axis=1)\n",
    "user_embeds_recall_mean = users_embeds_recall.mean(axis=1)\n",
    "\n",
    "user_audio_acc_mean = users_audio_acc.mean(axis=1)\n",
    "user_embeds_acc_mean = users_embeds_acc.mean(axis=1)\n",
    "\n",
    "user_audio_prec_mean = users_audio_prec.mean(axis=1)\n",
    "user_embeds_prec_mean = users_embeds_prec.mean(axis=1)\n",
    "\n",
    "\"\"\"\n",
    "bestus_f1 = set()\n",
    "for user in users_audio_f1.index:\n",
    "    if user_embeds_f1_mean[user] >= user_audio_f1_mean[user]:\n",
    "        bestus_f1.add(user)\n",
    "worstus_f1 = set(gt.user_id) - bestus_f1\n",
    "\n",
    "\n",
    "bestus_recall = set()\n",
    "for user in users_audio_f1.index:\n",
    "    if user_embeds_recall_mean[user] >= users_audio_recall_mean[user]:\n",
    "        bestus_recall.add(user)\n",
    "worstus_recall = set(gt.user_id) - bestus_recall\n",
    "\n",
    "\"\"\""
   ]
  },
  {
   "cell_type": "code",
   "execution_count": 44,
   "metadata": {},
   "outputs": [
    {
     "data": {
      "text/plain": [
       "0.21622411789022855"
      ]
     },
     "execution_count": 44,
     "metadata": {},
     "output_type": "execute_result"
    }
   ],
   "source": [
    "user_audio_f1_mean.mean()"
   ]
  },
  {
   "cell_type": "code",
   "execution_count": 86,
   "metadata": {},
   "outputs": [
    {
     "data": {
      "text/plain": [
       "0.3889677475309737"
      ]
     },
     "execution_count": 86,
     "metadata": {},
     "output_type": "execute_result"
    }
   ],
   "source": [
    "user_audio_f1_mean.std()"
   ]
  },
  {
   "cell_type": "code",
   "execution_count": 45,
   "metadata": {},
   "outputs": [
    {
     "data": {
      "text/plain": [
       "0.2608611961947096"
      ]
     },
     "execution_count": 45,
     "metadata": {},
     "output_type": "execute_result"
    }
   ],
   "source": [
    "user_embeds_f1_mean.mean()"
   ]
  },
  {
   "cell_type": "code",
   "execution_count": 88,
   "metadata": {},
   "outputs": [
    {
     "data": {
      "text/plain": [
       "0.41256172675641617"
      ]
     },
     "execution_count": 88,
     "metadata": {},
     "output_type": "execute_result"
    }
   ],
   "source": [
    "user_embeds_f1_mean.std()"
   ]
  },
  {
   "cell_type": "code",
   "execution_count": 46,
   "metadata": {},
   "outputs": [
    {
     "data": {
      "text/plain": [
       "0.20448969698182048"
      ]
     },
     "execution_count": 46,
     "metadata": {},
     "output_type": "execute_result"
    }
   ],
   "source": [
    "users_audio_recall_mean.mean()"
   ]
  },
  {
   "cell_type": "code",
   "execution_count": 91,
   "metadata": {},
   "outputs": [
    {
     "data": {
      "text/plain": [
       "0.37834756355199967"
      ]
     },
     "execution_count": 91,
     "metadata": {},
     "output_type": "execute_result"
    }
   ],
   "source": [
    "users_audio_recall_mean.std()"
   ]
  },
  {
   "cell_type": "code",
   "execution_count": 47,
   "metadata": {},
   "outputs": [
    {
     "data": {
      "text/plain": [
       "0.24629068375805252"
      ]
     },
     "execution_count": 47,
     "metadata": {},
     "output_type": "execute_result"
    }
   ],
   "source": [
    "user_embeds_recall_mean.mean()"
   ]
  },
  {
   "cell_type": "code",
   "execution_count": 92,
   "metadata": {},
   "outputs": [
    {
     "data": {
      "text/plain": [
       "0.40208052972332003"
      ]
     },
     "execution_count": 92,
     "metadata": {},
     "output_type": "execute_result"
    }
   ],
   "source": [
    "user_embeds_recall_mean.std()"
   ]
  },
  {
   "cell_type": "code",
   "execution_count": 48,
   "metadata": {},
   "outputs": [
    {
     "data": {
      "text/plain": [
       "0.21299044055782307"
      ]
     },
     "execution_count": 48,
     "metadata": {},
     "output_type": "execute_result"
    }
   ],
   "source": [
    "user_audio_acc_mean.mean()"
   ]
  },
  {
   "cell_type": "code",
   "execution_count": 89,
   "metadata": {},
   "outputs": [
    {
     "data": {
      "text/plain": [
       "0.38052712480786743"
      ]
     },
     "execution_count": 89,
     "metadata": {},
     "output_type": "execute_result"
    }
   ],
   "source": [
    "user_audio_acc_mean.std()"
   ]
  },
  {
   "cell_type": "code",
   "execution_count": 49,
   "metadata": {},
   "outputs": [
    {
     "data": {
      "text/plain": [
       "0.2543340214970456"
      ]
     },
     "execution_count": 49,
     "metadata": {},
     "output_type": "execute_result"
    }
   ],
   "source": [
    "user_embeds_acc_mean.mean()"
   ]
  },
  {
   "cell_type": "code",
   "execution_count": 90,
   "metadata": {},
   "outputs": [
    {
     "data": {
      "text/plain": [
       "0.4034150810047445"
      ]
     },
     "execution_count": 90,
     "metadata": {},
     "output_type": "execute_result"
    }
   ],
   "source": [
    "user_embeds_acc_mean.std()"
   ]
  },
  {
   "cell_type": "code",
   "execution_count": 50,
   "metadata": {},
   "outputs": [
    {
     "data": {
      "text/plain": [
       "0.24340416345772364"
      ]
     },
     "execution_count": 50,
     "metadata": {},
     "output_type": "execute_result"
    }
   ],
   "source": [
    "user_audio_prec_mean.mean()"
   ]
  },
  {
   "cell_type": "code",
   "execution_count": 51,
   "metadata": {},
   "outputs": [
    {
     "data": {
      "text/plain": [
       "0.29561241635910823"
      ]
     },
     "execution_count": 51,
     "metadata": {},
     "output_type": "execute_result"
    }
   ],
   "source": [
    "user_embeds_prec_mean.mean()"
   ]
  },
  {
   "cell_type": "code",
   "execution_count": 63,
   "metadata": {},
   "outputs": [
    {
     "data": {
      "text/html": [
       "<div>\n",
       "<style scoped>\n",
       "    .dataframe tbody tr th:only-of-type {\n",
       "        vertical-align: middle;\n",
       "    }\n",
       "\n",
       "    .dataframe tbody tr th {\n",
       "        vertical-align: top;\n",
       "    }\n",
       "\n",
       "    .dataframe thead th {\n",
       "        text-align: right;\n",
       "    }\n",
       "</style>\n",
       "<table border=\"1\" class=\"dataframe\">\n",
       "  <thead>\n",
       "    <tr style=\"text-align: right;\">\n",
       "      <th></th>\n",
       "      <th>song_id</th>\n",
       "      <th>user_id</th>\n",
       "      <th>car</th>\n",
       "      <th>gym</th>\n",
       "      <th>happy</th>\n",
       "      <th>night</th>\n",
       "      <th>relax</th>\n",
       "      <th>running</th>\n",
       "      <th>sad</th>\n",
       "      <th>summer</th>\n",
       "      <th>work</th>\n",
       "      <th>workout</th>\n",
       "    </tr>\n",
       "  </thead>\n",
       "  <tbody>\n",
       "    <tr>\n",
       "      <th>0</th>\n",
       "      <td>228670.0</td>\n",
       "      <td>668437.0</td>\n",
       "      <td>0.0</td>\n",
       "      <td>0.0</td>\n",
       "      <td>0.0</td>\n",
       "      <td>0.0</td>\n",
       "      <td>1.0</td>\n",
       "      <td>0.0</td>\n",
       "      <td>0.0</td>\n",
       "      <td>0.0</td>\n",
       "      <td>0.0</td>\n",
       "      <td>0.0</td>\n",
       "    </tr>\n",
       "    <tr>\n",
       "      <th>3252</th>\n",
       "      <td>1043778.0</td>\n",
       "      <td>668437.0</td>\n",
       "      <td>0.0</td>\n",
       "      <td>0.0</td>\n",
       "      <td>0.0</td>\n",
       "      <td>0.0</td>\n",
       "      <td>1.0</td>\n",
       "      <td>0.0</td>\n",
       "      <td>0.0</td>\n",
       "      <td>0.0</td>\n",
       "      <td>0.0</td>\n",
       "      <td>0.0</td>\n",
       "    </tr>\n",
       "  </tbody>\n",
       "</table>\n",
       "</div>"
      ],
      "text/plain": [
       "        song_id   user_id  car  gym  happy  night  relax  running  sad  \\\n",
       "0      228670.0  668437.0  0.0  0.0    0.0    0.0    1.0      0.0  0.0   \n",
       "3252  1043778.0  668437.0  0.0  0.0    0.0    0.0    1.0      0.0  0.0   \n",
       "\n",
       "      summer  work  workout  \n",
       "0        0.0   0.0      0.0  \n",
       "3252     0.0   0.0      0.0  "
      ]
     },
     "execution_count": 63,
     "metadata": {},
     "output_type": "execute_result"
    }
   ],
   "source": [
    "user_truth "
   ]
  },
  {
   "cell_type": "markdown",
   "metadata": {},
   "source": [
    "## use case study "
   ]
  },
  {
   "cell_type": "code",
   "execution_count": null,
   "metadata": {},
   "outputs": [],
   "source": []
  },
  {
   "cell_type": "code",
   "execution_count": 74,
   "metadata": {},
   "outputs": [],
   "source": [
    "u_correctP = gt[(one_hot_a == gt).iloc[:,2:].sum(axis =1) == 10]"
   ]
  },
  {
   "cell_type": "code",
   "execution_count": 79,
   "metadata": {},
   "outputs": [],
   "source": [
    "track_preds = u_correctP.groupby(\"song_id\").sum()"
   ]
  },
  {
   "cell_type": "code",
   "execution_count": 81,
   "metadata": {},
   "outputs": [],
   "source": [
    "track_preds[track_preds.iloc[:,1:] >=1] = 1"
   ]
  },
  {
   "cell_type": "code",
   "execution_count": 85,
   "metadata": {},
   "outputs": [
    {
     "data": {
      "text/plain": [
       "0"
      ]
     },
     "execution_count": 85,
     "metadata": {},
     "output_type": "execute_result"
    }
   ],
   "source": [
    "(track_preds.iloc[:,1:].sum(axis = 1) >1).sum()"
   ]
  },
  {
   "cell_type": "code",
   "execution_count": 106,
   "metadata": {},
   "outputs": [],
   "source": [
    "audio_concate = pd.DataFrame(columns=[\"Accuracy\",\"Recall\",\"Precision\",\"F1_score\"])"
   ]
  },
  {
   "cell_type": "code",
   "execution_count": 107,
   "metadata": {},
   "outputs": [],
   "source": [
    "audio_concate.Accuracy = user_audio_acc_mean\n",
    "audio_concate.Recall = users_audio_recall_mean\n",
    "audio_concate.Precision = user_audio_prec_mean\n",
    "audio_concate.F1_score= user_audio_f1_mean"
   ]
  },
  {
   "cell_type": "code",
   "execution_count": 111,
   "metadata": {},
   "outputs": [
    {
     "data": {
      "text/plain": [
       "<matplotlib.axes._subplots.AxesSubplot at 0x7f4d1e989f28>"
      ]
     },
     "execution_count": 111,
     "metadata": {},
     "output_type": "execute_result"
    },
    {
     "data": {
      "image/png": "[encoded data removed]",
      "text/plain": [
       "<Figure size 432x288 with 1 Axes>"
      ]
     },
     "metadata": {
      "needs_background": "light"
     },
     "output_type": "display_data"
    }
   ],
   "source": [
    "audio_concate.boxplot()\n"
   ]
  },
  {
   "cell_type": "code",
   "execution_count": 113,
   "metadata": {},
   "outputs": [],
   "source": [
    "user_concate = pd.DataFrame(columns=[\"Accuracy\",\"Recall\",\"Precision\",\"F1_score\"])"
   ]
  },
  {
   "cell_type": "code",
   "execution_count": 115,
   "metadata": {},
   "outputs": [],
   "source": [
    "user_concate.Accuracy = user_embeds_acc_mean\n",
    "user_concate.Recall = user_embeds_recall_mean\n",
    "user_concate.Precision = user_embeds_prec_mean\n",
    "user_concate.F1_score= user_embeds_f1_mean"
   ]
  },
  {
   "cell_type": "code",
   "execution_count": 116,
   "metadata": {},
   "outputs": [
    {
     "data": {
      "text/plain": [
       "<matplotlib.axes._subplots.AxesSubplot at 0x7f4d1e8e1b70>"
      ]
     },
     "execution_count": 116,
     "metadata": {},
     "output_type": "execute_result"
    },
    {
     "data": {
      "image/png": "[encoded data removed]",
      "text/plain": [
       "<Figure size 432x288 with 1 Axes>"
      ]
     },
     "metadata": {
      "needs_background": "light"
     },
     "output_type": "display_data"
    }
   ],
   "source": [
    "user_concate.boxplot()\n"
   ]
  },
  {
   "cell_type": "code",
   "execution_count": 128,
   "metadata": {},
   "outputs": [
    {
     "data": {
      "text/plain": [
       "28495"
      ]
     },
     "execution_count": 128,
     "metadata": {},
     "output_type": "execute_result"
    }
   ],
   "source": [
    "(user_concate.F1_score >= audio_concate.F1_score).sum()"
   ]
  },
  {
   "cell_type": "code",
   "execution_count": 129,
   "metadata": {},
   "outputs": [
    {
     "data": {
      "text/plain": [
       "27050"
      ]
     },
     "execution_count": 129,
     "metadata": {},
     "output_type": "execute_result"
    }
   ],
   "source": [
    "(audio_concate.F1_score >= user_concate.F1_score).sum()"
   ]
  },
  {
   "cell_type": "code",
   "execution_count": 142,
   "metadata": {},
   "outputs": [],
   "source": [
    "exlude_users = user_concate[user_concate.F1_score == 0]\n",
    "exclude_audio = audio_concate[audio_concate.F1_score == 0]"
   ]
  },
  {
   "cell_type": "code",
   "execution_count": 145,
   "metadata": {},
   "outputs": [],
   "source": [
    "exlude_users = exlude_users.index\n",
    "exclude_audio = exclude_audio.index"
   ]
  },
  {
   "cell_type": "code",
   "execution_count": 148,
   "metadata": {},
   "outputs": [],
   "source": [
    "exclude_common = list(set(exlude_users).intersection(exclude_audio))"
   ]
  },
  {
   "cell_type": "code",
   "execution_count": 153,
   "metadata": {},
   "outputs": [],
   "source": [
    "user_concate_exclude = user_concate[~user_concate.index.isin(exclude_common)]\n",
    "audio_concate_exclude = audio_concate[~audio_concate.index.isin(exclude_common)]"
   ]
  },
  {
   "cell_type": "code",
   "execution_count": 160,
   "metadata": {},
   "outputs": [
    {
     "data": {
      "text/plain": [
       "9441"
      ]
     },
     "execution_count": 160,
     "metadata": {},
     "output_type": "execute_result"
    }
   ],
   "source": [
    "(user_concate_exclude.F1_score >= audio_concate_exclude.F1_score).sum()"
   ]
  },
  {
   "cell_type": "code",
   "execution_count": 158,
   "metadata": {},
   "outputs": [
    {
     "data": {
      "text/plain": [
       "4832"
      ]
     },
     "execution_count": 158,
     "metadata": {},
     "output_type": "execute_result"
    }
   ],
   "source": [
    "(audio_concate_exclude.F1_score > user_concate_exclude.F1_score).sum()"
   ]
  },
  {
   "cell_type": "code",
   "execution_count": 161,
   "metadata": {},
   "outputs": [
    {
     "data": {
      "text/plain": [
       "14273"
      ]
     },
     "execution_count": 161,
     "metadata": {},
     "output_type": "execute_result"
    }
   ],
   "source": [
    "9441 + 4832"
   ]
  },
  {
   "cell_type": "code",
   "execution_count": null,
   "metadata": {},
   "outputs": [],
   "source": []
  }
 ],
 "metadata": {
  "kernelspec": {
   "display_name": "Python 3",
   "language": "python",
   "name": "python3"
  },
  "language_info": {
   "codemirror_mode": {
    "name": "ipython",
    "version": 3
   },
   "file_extension": ".py",
   "mimetype": "text/x-python",
   "name": "python",
   "nbconvert_exporter": "python",
   "pygments_lexer": "ipython3",
   "version": "3.6.6"
  }
 },
 "nbformat": 4,
 "nbformat_minor": 2
}
