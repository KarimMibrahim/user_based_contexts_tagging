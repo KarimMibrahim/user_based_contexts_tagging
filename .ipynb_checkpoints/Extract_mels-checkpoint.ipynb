{
 "cells": [
  {
   "cell_type": "code",
   "execution_count": null,
   "metadata": {},
   "outputs": [],
   "source": []
  },
  {
   "cell_type": "code",
   "execution_count": 1,
   "metadata": {},
   "outputs": [],
   "source": [
    "import pandas as pd\n",
    "tracks_ids = pd.read_csv(\"balanced_ground_truth_hot_vector.csv\")\n",
    "tracks_ids = tracks_ids.song_id"
   ]
  },
  {
   "cell_type": "code",
   "execution_count": 2,
   "metadata": {
    "scrolled": true
   },
   "outputs": [
    {
     "name": "stderr",
     "output_type": "stream",
     "text": [
      "Cache directory was set to: /home/deezer/joblib_cache. Set env variable JOBLIB_CACHEDIR to customize your cache directory.\n",
      "Warning: putting logs in /tmp\n",
      "Warning: KAFKA_SERVER was not set as an env variable. Default one will be used instead: 172.31.0.35:9092\n"
     ]
    }
   ],
   "source": [
    "from dzr_audio.transforms.features_extractor import compute_features\n",
    "import json\n",
    "\n",
    "\n",
    "features_config =  {\n",
    "    \"sample_rate\":22050,\n",
    "    \"dtype\": \"float32\",\n",
    "    \"format\": {\n",
    "        \"type\":\"aggregate_n_features\",\n",
    "        \"merge_channels\":True\n",
    "        },\n",
    "    \"features\": {\n",
    "        \"MelSp1\": {\n",
    "            \"feature_type\": \"MelSpectrogramLibrosa\",\n",
    "            \"parameters\": {\n",
    "                \"n_fft\": 1024,\n",
    "                \"hop_length\": 1024,\n",
    "                \"n_mels\": 96\n",
    "            }\n",
    "        }\n",
    "    }\n",
    "}"
   ]
  },
  {
   "cell_type": "code",
   "execution_count": null,
   "metadata": {},
   "outputs": [
    {
     "name": "stderr",
     "output_type": "stream",
     "text": [
      " 66%|██████▌   | 32856/49929 [4:31:14<2:21:41,  2.01it/s]"
     ]
    }
   ],
   "source": [
    "from tqdm import tqdm\n",
    "import numpy as np \n",
    "SAVING_PATH = '/srv/workspace/research/balanceddata/mel_specs/'\n",
    "\n",
    "for track in tqdm(tracks_ids):\n",
    "    try:\n",
    "        features, t = compute_features(signal_identifier=track,\n",
    "                               entity_type=\"song\",\n",
    "                               segment=[30, 60],\n",
    "                               transform_params=json.dumps({}),\n",
    "                               features_params=json.dumps(features_config, sort_keys=True))\n",
    "        np.savez(SAVING_PATH + str(track)+\".npz\" , features)\n",
    "    except: \n",
    "        continue "
   ]
  },
  {
   "cell_type": "code",
   "execution_count": null,
   "metadata": {},
   "outputs": [],
   "source": []
  },
  {
   "cell_type": "code",
   "execution_count": null,
   "metadata": {},
   "outputs": [],
   "source": []
  },
  {
   "cell_type": "code",
   "execution_count": null,
   "metadata": {},
   "outputs": [],
   "source": []
  }
 ],
 "metadata": {
  "kernelspec": {
   "display_name": "Python 3",
   "language": "python",
   "name": "python3"
  },
  "language_info": {
   "codemirror_mode": {
    "name": "ipython",
    "version": 3
   },
   "file_extension": ".py",
   "mimetype": "text/x-python",
   "name": "python",
   "nbconvert_exporter": "python",
   "pygments_lexer": "ipython3",
   "version": "3.5.2"
  }
 },
 "nbformat": 4,
 "nbformat_minor": 2
}
